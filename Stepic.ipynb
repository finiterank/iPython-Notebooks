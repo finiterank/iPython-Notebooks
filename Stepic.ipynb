{
 "metadata": {
  "name": ""
 },
 "nbformat": 3,
 "nbformat_minor": 0,
 "worksheets": [
  {
   "cells": [
    {
     "cell_type": "markdown",
     "metadata": {},
     "source": [
      "# Bioinformatics Algorithms\n",
      "\n",
      "Here I'm posting my solutions to the problems contained [here](https://stepic.org/Bioinformatics-Algorithms-2). I started this file on January 13, 2014. Test."
     ]
    },
    {
     "cell_type": "markdown",
     "metadata": {},
     "source": [
      "## Frequent Words Problem\n",
      "\n",
      "Find the most frequent k-mers in a string.\n",
      "\n",
      "**Input:** A string Text and an integer k.\n",
      "\n",
      "**Output:** All most frequent k-mers in Text."
     ]
    },
    {
     "cell_type": "code",
     "collapsed": false,
     "input": [
      "genome = \"ACGTTGCATGTCGCATGATGCATGAGAGCT\"\n",
      "k = 4\n",
      "def genomekmers(genome, k):\n",
      "    kmers = {}\n",
      "    freqs = {}\n",
      "    positions = {}\n",
      "    for i in range(len(genome)-k):\n",
      "        kmers[genome[i:i+k]] = kmers.get(genome[i:i+k], 0) + 1\n",
      "        positions[genome[i:i+k]] = positions.get(genome[i:i+k], []) + [i]\n",
      "        f = kmers[genome[i:i+k]]\n",
      "        if f>1:\n",
      "            freqs[f-1].remove(genome[i:i+k])\n",
      "        freqs[f] = freqs.get(f,[])+[genome[i:i+k]]\n",
      "    return kmers, freqs, positions"
     ],
     "language": "python",
     "metadata": {},
     "outputs": [],
     "prompt_number": 62
    },
    {
     "cell_type": "code",
     "collapsed": false,
     "input": [
      "def topkmers(genome, k):\n",
      "    kmers, freqs, positions = genomekmers(genome,k)\n",
      "    output = freqs[max(freqs.keys())]\n",
      "    print \" \".join(output)\n",
      "    return output"
     ],
     "language": "python",
     "metadata": {},
     "outputs": [],
     "prompt_number": 56
    },
    {
     "cell_type": "code",
     "collapsed": false,
     "input": [
      "genome = \"TCGAACATGAAACTTTTGAAACTTTTGAAACTTTTCGAACATATTCTTGATAAATTTCTTGAAACTTTTGAAACTTTTCGAACATCGAACATGAAACTTTTATTCTTGATATTCTTGATGAAACTTTTAAATTTCTATTACTATCTAAATTTCTTATTCTTGAATTACTATCATTACTATCTATTCTTGATAAATTTCTTATTCTTGATAAATTTCTTAAATTTCTTATTCTTGATATTCTTGATCGAACATCGAACATGAAACTTTTGAAACTTTTATTCTTGATATTCTTGATCGAACATATTCTTGATAAATTTCTTAAATTTCTTAAATTTCTTAAATTTCTTAAATTTCTATTACTATCTAAATTTCTTAAATTTCTTAAATTTCTTATTCTTGATATTCTTGATAAATTTCTTGAAACTTTTCGAACATAAATTTCTTCGAACATAAATTTCTTGAAACTTTATTACTATCATTACTATCTGAAACTTTATTACTATCTATTCTTGATAAATTTCTTGAAACTTTATTACTATCTATTCTTGAATTACTATCTGAAACTTTATTACTATCTAAATTTCTTAAATTTCTTCGAACATGAAACTTTTAAATTTCTTAAATTTCTTATTCTTGATAAATTTCTTATTCTTGATCGAACATCGAACAATTACTATCTAAATTTCTATTACTATCTAAATTTCTTAAATTTCTTATTCTTGATAAATTTCTTATTCTTGATCGAACATATTCTTGATCGAACATGAAACTTTTAAATTTCTTATTCTTGATAAATTTCT\"\n",
      "k = 11\n",
      "t = topkmers(genome,k)"
     ],
     "language": "python",
     "metadata": {},
     "outputs": [
      {
       "output_type": "stream",
       "stream": "stdout",
       "text": [
        "TAAATTTCTTA\n"
       ]
      }
     ],
     "prompt_number": 57
    },
    {
     "cell_type": "markdown",
     "metadata": {},
     "source": [
      "## Reverse Complement Problem\n",
      "\n",
      "Reverse complement a nucleotide pattern.\n",
      "\n",
      "**Input:** A DNA string Pattern.\n",
      "\n",
      "**Output:** the reverse complement of Pattern."
     ]
    },
    {
     "cell_type": "code",
     "collapsed": false,
     "input": [
      "def reversecomplement(genome):\n",
      "    function = {\"A\":\"T\", \"T\":\"A\", \"C\":\"G\", \"G\":\"C\"}\n",
      "    output = [function[x] for x in genome[::-1]]\n",
      "    return \"\".join(output)"
     ],
     "language": "python",
     "metadata": {},
     "outputs": [],
     "prompt_number": 34
    },
    {
     "cell_type": "code",
     "collapsed": false,
     "input": [
      "reversecomplement(\"CGTTTCGGCG\")"
     ],
     "language": "python",
     "metadata": {},
     "outputs": [
      {
       "metadata": {},
       "output_type": "pyout",
       "prompt_number": 35,
       "text": [
        "'CGCCGAAACG'"
       ]
      }
     ],
     "prompt_number": 35
    },
    {
     "cell_type": "markdown",
     "metadata": {},
     "source": [
      "## Pattern Matching Problem\n",
      "\n",
      "Find all occurrences of a pattern in a string.\n",
      "\n",
      "**Input:** Two strings, Pattern and Genome.\n",
      "\n",
      "**Output:** All starting positions where Pattern appears as a substring of Genome."
     ]
    },
    {
     "cell_type": "code",
     "collapsed": false,
     "input": [
      "def patternmatching(pattern, genome):\n",
      "    kmers, freqs, positions = genomekmers(genome,len(pattern))\n",
      "    output =  positions[pattern]\n",
      "    print \" \".join('{}'.format(i) for i in output)\n",
      "    return output"
     ],
     "language": "python",
     "metadata": {},
     "outputs": [],
     "prompt_number": 74
    },
    {
     "cell_type": "code",
     "collapsed": false,
     "input": [
      "p = patternmatching(\"ATA\", \"CGATATATCCATAG\")"
     ],
     "language": "python",
     "metadata": {},
     "outputs": [
      {
       "output_type": "stream",
       "stream": "stdout",
       "text": [
        "2 4 10\n"
       ]
      }
     ],
     "prompt_number": 76
    },
    {
     "cell_type": "markdown",
     "metadata": {},
     "source": [
      "## CTTGATCAT in Vibrio cholerae genome\n",
      "\n",
      "Return all starting positions (in increasing order) where CTTGATCAT appears as a substring in the Vibrio cholerae genome."
     ]
    },
    {
     "cell_type": "code",
     "collapsed": false,
     "input": [
      "file = \"/Users/javier/Documents/Data/stepic/vibrio_cholerae.txt\"\n",
      "with open(file, \"r\") as myfile:\n",
      "    vibcholegenome = myfile.read()\n",
      "pattern = \"CTTGATCAT\""
     ],
     "language": "python",
     "metadata": {},
     "outputs": [],
     "prompt_number": 78
    },
    {
     "cell_type": "code",
     "collapsed": false,
     "input": [
      "def positionskmers(genome, k):\n",
      "    positions = {}\n",
      "    for i in range(len(genome)-k):\n",
      "        positions[genome[i:i+k]] = positions.get(genome[i:i+k], []) + [i]\n",
      "    return positions"
     ],
     "language": "python",
     "metadata": {},
     "outputs": [],
     "prompt_number": 81
    },
    {
     "cell_type": "code",
     "collapsed": false,
     "input": [
      "positions = positionskmers(vibcholegenome, 9)"
     ],
     "language": "python",
     "metadata": {},
     "outputs": [],
     "prompt_number": 82
    },
    {
     "cell_type": "code",
     "collapsed": false,
     "input": [
      "positions[pattern]"
     ],
     "language": "python",
     "metadata": {},
     "outputs": [
      {
       "metadata": {},
       "output_type": "pyout",
       "prompt_number": 84,
       "text": [
        "[60039,\n",
        " 98409,\n",
        " 129189,\n",
        " 152283,\n",
        " 152354,\n",
        " 152411,\n",
        " 163207,\n",
        " 197028,\n",
        " 200160,\n",
        " 357976,\n",
        " 376771,\n",
        " 392723,\n",
        " 532935,\n",
        " 600085,\n",
        " 622755,\n",
        " 1065555]"
       ]
      }
     ],
     "prompt_number": 84
    },
    {
     "cell_type": "markdown",
     "metadata": {},
     "source": [
      "## Clump Finding Problem\n",
      "\n",
      "Find patterns forming clumps in a string.\n",
      "     \n",
      "**Input:** A string Genome, and integers k, L, and t.\n",
      " \n",
      "**Output:** All distinct k-mers forming (L, t)-clumps in Genome."
     ]
    },
    {
     "cell_type": "code",
     "collapsed": false,
     "input": [
      "def isthereaclump(l, k, t, L):\n",
      "    for i in range(len(l)-(t-1)):\n",
      "        if l[i+(t-1)] + (k-1) - l[i] <= L-1:\n",
      "            return True\n",
      "    return False"
     ],
     "language": "python",
     "metadata": {},
     "outputs": [],
     "prompt_number": 87
    },
    {
     "cell_type": "code",
     "collapsed": false,
     "input": [
      "def clumpfinder(genome, k, t, L):\n",
      "    pos = positionskmers(genome, k)\n",
      "    clumps = {key:value for key,value in pos.items() if len(value)>=t and isthereaclump(value, k, t, L)}\n",
      "    return clumps.keys()"
     ],
     "language": "python",
     "metadata": {},
     "outputs": [],
     "prompt_number": 90
    },
    {
     "cell_type": "code",
     "collapsed": false,
     "input": [
      "genome = \"GCGGTTATGCACCGTTCAAATTAGCAAACCACTAAGCGACGTAGTCTGGATTGATTTCTCCCTACCAGTGACCCAAGACGCGTTAGTGAGTTAAGTTCATATCCAGTACCTGCCGCCCTCTGTACTTGGGCGTCCGATTCGCATGCTTACTCAGGTGGAGGACACGATAATCTGATTAAACTGAGCTAAACCAGGTGGAACCAGAAACCAGGTGGGGAGTCTCGCTTCAAGCCGTTCTTGCGATCAAACCAGGTGGTCCATTATGAAACCAGGTGGCTAAACCAGGTGGTCCAGATCCTCGAATGATGTCGGTGCACATCAAAACCAGGTGGGGTGGTGGAACGTAAAACCAGGTGGCATAAACCAGGTGGGCCGGTTCGTAAACCAGGTGAAACCAGGTGGGGTGGAAACCAGGTGGGTTACAAATTACGTTGAGATGGCCCAAACCAGGTGGTGGGCTTCACCCATGTCAACAAACCACCCTATGGAACTAAACCAGGTGGAACCAGGTGGTGAAGGCTTATCCTCAGGAAAAACCAGGTGGAGGTGGTGAAATAAAACCAGGTGGACCAGGTGGATAACCCTCGCCTCGCTTCTCAACCGAGACCTGGATAAACCAGGTGGGGTGGTCCACCGATTTTTGAGACACTAGAAACCAGGTGGGCGGGGAAACCAGGTGGCAAACCAGGTGGGGTGGACGGAAACCAGGTGGATATGTCATAAAACCAAACCAGGTGGTGCACCCCCATGGTGTGTCTTATCCGTGCGTATAAACCAGGTGGTCGCACGGCTTCCACTTGCTGAGAATAGGCCCGCAGGGTCAGTGCCATGCCCTCCGTCACTCGATATGTGTTGTAAGAGTGGTTACCCCTTCATTGAAGTCGCCCACAGCCCCACCTGCATTGCTAGACTATCACCCTACAGTAGGCCTTTTCGCCTTCTTCAAGCAGCAATCTCTTATCCGCGGATGGGCGCGGCGAGCGTGGCGTCCCCGAACATTTTTACCTAACGTGTTTTGTTGGCCGCAAGCCTTCCCTCTAGTCCACCTCAGCCATTCAGCCTAGTAGCTTTCAAGCCGAGCCTTCCATATCTAATGGACCGTCCAGAATTTCACACGTTTCACAGGGCTGTGTTCGACCGCCCGTAATGCTGTTTCACAGGCGATCGCCTTGCGGTTTTTTCACAGATCGCAGCCGATGGACATGCCAACTCGATTTTCACAGAGTTTTTCACAGCGGTTTCACAGCACAGCAGTGATTGTTTCACAGCAATTTTCACTTTCACAGGGGCCCTTTTCACAGCTCAGGGCTCTTTTCACTTTCACAGTTTCACAGCGCTCCTTTCACAGAGCGGGGAAATTTAAGGGAACACTCAAGGGAACAAGGGAACACACAAAGGGAACACAACACAACACATAAGGGAACACTTTCACAGAACACAAAAGTCCGAAATCATCAGCGGCGAAGGGATTTCACAGACAGACACTTTCACAGCGCATTTCACAGATACGTACTTTCACAGGCGTACTTTCACAGACTTTCACAGAGGACAAGCTCAATTTTCACAGACAGGCTGGATAAATTTCACAGCGGTAAGGGTTTCACAGCACACATAAGGGAACACGAATTTCACAGCAGGGAACACCTCTACGAGTAATCTATTACTCTACCTACTGAAGGGAACACACCGAAGACCTACTATTACCTATTACTCTTAAAGGGAACACATTACAAGGGAACACACTCTCTCGTCATATCTCACCTCTCTATTACTCTTAAGGGAACACCTTCTCGATCAACCTATTACTCTATGGAGATAGAGATATTCCAGACATATGGAGATAACATGGAGATATGGAGATAATGGAGATGGAGATAGCTCTTATATTTATCCTATGGAGATATGATACTATTAATGGAGATAATTCTAATGGAGATATAATTACTCTAAGAGGATGGGATCTCGGGCTATTACTCTAATGGAGATAAGCACTATTACTCTAGGAAATGGAGATATGTCAATGGAGATATGTAATGGAGATAGAGGGAGATGGAGTCGCCATTTCATAATCGCCATTTCATAGTTCAGGAATCGCCATTTCCGCCATTTCTAAGATGGAGTCGCCATTTCTACGTATGGAGATAGGATCGCCATTTCATACGACCCGTTGGATATCGCCATTTCCTCGCCATTTCTGGTGACATTTCTCGCCATTTCATTTCTGGAGATAGATGGATCTCGCCATTTCATAGGAATCGCCATTTCCACGTAGGGGGGGCCACAATCCGTAGGTCGGAATTCAGACTCGCCATTTCCCATCGCCATTTCTTCACCTGTATGCCGATCCCTTCGCCATTTCTCATGGAGATAACTCTCTCTCGCCATTTCTCGCCATTTCCATTTCACTCTCATTCGCCATCGCCATTTCCATTCGCCATTTCATCGCCATTTCTTCAGGATAAGATATCGCCATTTCGACTCTCATTCGCATACTGACTCTCATTCTCATCTCGCCATTTCTCATCTGACTCTCATCCTGGGGGAAACTTGCGACTCTCATCACACTTCCGTCGACTCTCATACTGGCGGATAGCATAGGAGCCATTTAAAGACTCTCATTCTCATTCGAGACTCTCATTCAAATCCTACGAGGACTCTCATATAGACTCTCATATCATTACGAGGACTCTCATATACGAGCCATGCATGTGGCGACGACTCTCATCTACGAGCCATGCAAGCAGAATCTACGAGCGACTCTCATTACGAGCCATGTGACCGTACGAGCCATGCATGCATGCCATGCTGACTCTCATCGAGTACGAGCCATGGAAGTTCTTGTTGGTTCGTAGCCCAAGAGCTGAAGTTACGAGCCTACGAGCCATGAAGTTACTTTTACGAGCCATGAAGCTTACGATACGAGCCATGCGAGCCATGCATCCGCGCTACGAGCCATGTTCCAGTACGAGCCATGTTAGTTGCTGAAGTTAAGTTTGGCGCTGAAGTTTGTACGAGCCATGTGCCCGCTGAAGTTTGTTGTACGAGCCATGCATGCTGAAGTTAATGGCTGAAGTTAGCGTTTGCGGGCAGATCCTCATTCTACGATACGAGCCATGCCATGCAGCTGAAGTTAAGTTGGGTTACGAGCCATGCGAGCCATGTGAAGTACGAGCCATGCTGGCTGAAGTTGTTTGTGCTGCTGAAGTTGCTCTTGTCTCTAGCTGAAGTTGCCAACAGGGCTGAAGCTGAAGTTTAAGCTGAAGTTGCGAGCAGGCTGAAGTTATCGGATTGGGGCTGAAGTTCAACCTCCCGTCCCCCCACACTATATTCCCGTCCCCCCCCGCGCACGCGCCGTCTCCCGTCCCCCCTATCCCGTGCGCACGCGACGCGATCCCGTCCCCCCAGAGTGCGCGCACGCGTCCCCCTTCCCGTCCCCCTCTCCCGGGCGCACGCGTCGCTCAACATTTCCGCGCACGCGTCGCGCACGCGGGCGCACGCGGGTCCCGTCCCCCCCCCTCTTCGGCGCACGCGGAATTCCCGTCGCGCACGCGTCCCGTCCCGCGCACGCGTCGCGCACGCGACTGCCCTAACCAACAGTGCGCACGCGCCGGTAACCCGGTAACCCGGTAACCGCGCACGCGGGCGCACGCGCGTAACCCGCGCACGCGCCGCGCACGCGGCCCGGTTCCCGTCCCCCCCGGTAACCCGGTAACTCCCGTCCCCCGTAACCCGGTGCGCACGCGCCCGGCGCACGCGGAGCGCACGCGCCCCCCCCGGTAATAGCGCACGCGCCCGGGCGCACGCGCCCGGTAACCCGGTAACCCGGGCGCGCGCACGCGGCGGCGCACGCGGCGCACGCGGCGCACGCG\""
     ],
     "language": "python",
     "metadata": {},
     "outputs": [],
     "prompt_number": 91
    },
    {
     "cell_type": "code",
     "collapsed": false,
     "input": [
      "k = 11 \n",
      "L = 566 \n",
      "t = 18"
     ],
     "language": "python",
     "metadata": {},
     "outputs": [],
     "prompt_number": 92
    },
    {
     "cell_type": "code",
     "collapsed": false,
     "input": [
      "clumpfinder(genome,k, t, L)"
     ],
     "language": "python",
     "metadata": {},
     "outputs": [
      {
       "metadata": {},
       "output_type": "pyout",
       "prompt_number": 93,
       "text": [
        "['AAACCAGGTGG']"
       ]
      }
     ],
     "prompt_number": 93
    },
    {
     "cell_type": "markdown",
     "metadata": {},
     "source": [
      "## How many 9-mers form clumps in the e. coli genome?"
     ]
    },
    {
     "cell_type": "code",
     "collapsed": false,
     "input": [
      "file = \"/Users/javier/Documents/Data/stepic/e-coli.txt\"\n",
      "with open(file, \"r\") as myfile:\n",
      "    ecoligenome = myfile.read()"
     ],
     "language": "python",
     "metadata": {},
     "outputs": [],
     "prompt_number": 94
    },
    {
     "cell_type": "code",
     "collapsed": false,
     "input": [
      "k = 9\n",
      "L = 500\n",
      "t = 3\n",
      "clumps = clumpfinder(ecoligenome, k, t, L)"
     ],
     "language": "python",
     "metadata": {},
     "outputs": [],
     "prompt_number": 95
    },
    {
     "cell_type": "code",
     "collapsed": false,
     "input": [
      "len(clumps)"
     ],
     "language": "python",
     "metadata": {},
     "outputs": [
      {
       "metadata": {},
       "output_type": "pyout",
       "prompt_number": 96,
       "text": [
        "1904"
       ]
      }
     ],
     "prompt_number": 96
    },
    {
     "cell_type": "markdown",
     "metadata": {},
     "source": [
      "## Skew_i(Genome)\n",
      "\n",
      "We define Skew_i(Genome) as the difference between the total number of occurrences of G and C in the first i nucleotides of Genome."
     ]
    },
    {
     "cell_type": "code",
     "collapsed": false,
     "input": [
      "def skew(genome):\n",
      "    output = [0]\n",
      "    count = 0\n",
      "    for x in genome:\n",
      "        if x == \"G\": \n",
      "            count = count + 1\n",
      "        if x == \"C\":\n",
      "            count = count - 1\n",
      "        output = output + [count]\n",
      "    return output"
     ],
     "language": "python",
     "metadata": {},
     "outputs": [],
     "prompt_number": 101
    },
    {
     "cell_type": "code",
     "collapsed": false,
     "input": [
      "skew(\"CATGGGCATCGGCCATACGCC\")"
     ],
     "language": "python",
     "metadata": {},
     "outputs": [
      {
       "metadata": {},
       "output_type": "pyout",
       "prompt_number": 102,
       "text": [
        "[0, -1, -1, -1, 0, 1, 2, 1, 1, 1, 0, 1, 2, 1, 0, 0, 0, 0, -1, 0, -1, -2]"
       ]
      }
     ],
     "prompt_number": 102
    },
    {
     "cell_type": "markdown",
     "metadata": {},
     "source": [
      "## Minimum Skew Problem \n",
      "Find a position in a genome minimizing the skew.\n",
      "\n",
      "**Input:** A DNA string Genome.\n",
      "\n",
      "**Output:** All integer(s) i minimizing Skewi (Genome) among all values of i (from 0 to |Genome|)."
     ]
    },
    {
     "cell_type": "code",
     "collapsed": false,
     "input": [
      "genome = \"TAAAGACTGCCGAGAGGCCAACACGAGTGCTAGAACGAGGGGCGTAAACGCGGGTCCGAT\"\n",
      "def minskew(genome):\n",
      "    t = skew(genome)\n",
      "    l = [i for i,n in enumerate(t) if n == min(t)]\n",
      "    return l"
     ],
     "language": "python",
     "metadata": {},
     "outputs": [],
     "prompt_number": 106
    },
    {
     "cell_type": "code",
     "collapsed": false,
     "input": [
      "minskew(genome)"
     ],
     "language": "python",
     "metadata": {},
     "outputs": [
      {
       "metadata": {},
       "output_type": "pyout",
       "prompt_number": 107,
       "text": [
        "[11, 24]"
       ]
      }
     ],
     "prompt_number": 107
    },
    {
     "cell_type": "markdown",
     "metadata": {},
     "source": [
      "##Approximate Pattern Matching Problem\n",
      "\n",
      "Find all approximate occurrences of a pattern in a string.\n",
      "\n",
      "**Input:** Two strings Pattern and Text along with an integer d.\n",
      "\n",
      "**Output:** All positions where Pattern appears in Text with at most d mismatches."
     ]
    },
    {
     "cell_type": "code",
     "collapsed": false,
     "input": [
      "def appmatchpat(p, q, d):\n",
      "    count = 0\n",
      "    for x, y in zip(p,q):\n",
      "        if x != y: \n",
      "            count = count + 1\n",
      "        if count > d:\n",
      "            return False\n",
      "    return True"
     ],
     "language": "python",
     "metadata": {},
     "outputs": [],
     "prompt_number": 198
    },
    {
     "cell_type": "code",
     "collapsed": false,
     "input": [
      "appmatchpat(\"CAACCAA\", \"ADAAAAA\", 3)"
     ],
     "language": "python",
     "metadata": {},
     "outputs": [
      {
       "metadata": {},
       "output_type": "pyout",
       "prompt_number": 199,
       "text": [
        "False"
       ]
      }
     ],
     "prompt_number": 199
    },
    {
     "cell_type": "code",
     "collapsed": false,
     "input": [
      "def appmatch(pattern, genome, d):\n",
      "    pos = []\n",
      "    k = len(pattern)\n",
      "    l = len(genome)\n",
      "    for i in range(l-k):\n",
      "        if appmatchpat(pattern, genome[i:i+k], d):\n",
      "            pos = pos + [i]\n",
      "    return pos"
     ],
     "language": "python",
     "metadata": {},
     "outputs": [],
     "prompt_number": 200
    },
    {
     "cell_type": "code",
     "collapsed": false,
     "input": [
      "pattern = \"ATTCTGGA\"\n",
      "genome = \"CGCCCGAATCCAGAACGCATTCCCATATTTCGGGACCACTGGCCTCCACGGTACGGACGTCAATCAAAT\"\n",
      "d = 3\n",
      "appmatch(pattern, genome, d)"
     ],
     "language": "python",
     "metadata": {},
     "outputs": [
      {
       "metadata": {},
       "output_type": "pyout",
       "prompt_number": 201,
       "text": [
        "[6, 7, 26, 27]"
       ]
      }
     ],
     "prompt_number": 201
    },
    {
     "cell_type": "code",
     "collapsed": false,
     "input": [
      "for d in [1,2,3,4,5]:\n",
      "    print \"Para\", d, \" hay: \", len(appmatch(\"AAAAA\", \"AACAAGCTGATAAACATTTAAAGAG\", d))"
     ],
     "language": "python",
     "metadata": {},
     "outputs": [
      {
       "output_type": "stream",
       "stream": "stdout",
       "text": [
        "Para 1  hay:  4\n",
        "Para 2  hay:  10\n",
        "Para 3  hay:  16\n",
        "Para 4  hay:  20\n",
        "Para 5  hay:  20\n"
       ]
      }
     ],
     "prompt_number": 206
    },
    {
     "cell_type": "markdown",
     "metadata": {},
     "source": [
      "##Frequent Words with Mismatches Problem\n",
      "\n",
      "Find the most frequent k-mers with mismatches in a string.\n",
      "\n",
      "**Input:** A string Text as well as integers k and d. (You may assume k \u2264 12 and d \u2264 3.)\n",
      "\n",
      "**Output:** All most frequent k-mers with up to d mismatches in Text.\n",
      "\n",
      "(Note that such k-mers do not need to actually appear as substrings of Text.)"
     ]
    },
    {
     "cell_type": "code",
     "collapsed": false,
     "input": [
      "import itertools"
     ],
     "language": "python",
     "metadata": {},
     "outputs": [],
     "prompt_number": 4
    },
    {
     "cell_type": "code",
     "collapsed": false,
     "input": [
      "def ball_edit_distance_d(pattern, d):\n",
      "    output = []\n",
      "    indexes = range(len(pattern))\n",
      "    for i in itertools.combinations(indexes,d):\n",
      "        for j in itertools.product(\"ACGT\", repeat=d):\n",
      "            s = list(pattern)\n",
      "            for k in range(d):\n",
      "                s[i[k]] = j[k] \n",
      "            output = output + [\"\".join(s)]\n",
      "            # print i, j, \"resulta:\", \"\".join(s)\n",
      "    # This generating function is not very efficient. In particular it over generates several patterns.\n",
      "    # That's the reason for the \"set\" in the next line.\n",
      "    return list(set(output))"
     ],
     "language": "python",
     "metadata": {},
     "outputs": [],
     "prompt_number": 184
    },
    {
     "cell_type": "code",
     "collapsed": false,
     "input": [
      "def countaproxkmers(genome, k, d):\n",
      "    kmers = {}\n",
      "    balls = {}\n",
      "    for i in range(len(genome)-k):\n",
      "        # print i, \"out of\", len(genome)-k, \"-\",\n",
      "        l = balls.get(genome[i:i+k], ball_edit_distance_d(genome[i:i+k],d))\n",
      "        for kmer in l:\n",
      "            kmers[kmer] = kmers.get(kmer,0)+1\n",
      "    return kmers"
     ],
     "language": "python",
     "metadata": {},
     "outputs": [],
     "prompt_number": 180
    },
    {
     "cell_type": "code",
     "collapsed": false,
     "input": [
      "def mostfrequentapproxkmers(genome,k,d):\n",
      "    # print \"Starting counting\"\n",
      "    kmers = countaproxkmers(genome, k, d)\n",
      "    # print \"Done counting\"\n",
      "    top = max(kmers.values())\n",
      "    m = [k for k,v in kmers.items() if v==top]\n",
      "    print \"Result:\"\n",
      "    for i in m:\n",
      "        print i,\n",
      "    return m"
     ],
     "language": "python",
     "metadata": {},
     "outputs": [],
     "prompt_number": 181
    },
    {
     "cell_type": "code",
     "collapsed": false,
     "input": [
      "genome = \"TACAATGAAGATGAGAAGAATGTACAAGAATGATGTCAATGTACATACAAGAAAGAGAATGAGATCAATGTACAAAGAGAAAGTCAATGATGTACATACAAGAAGAATGATGTCAAAGAAGAGAATGTCATACAAAGTCAAAGAGATACAAAGTCAAGAATGTACAAAGTACAAAGAGAAAGTCAAAGATGTCATCAAGAATGAAGATGAGAAAGTCATACAATGTCAAGATACAATGATGAGAATGTACAAAGAAGATGAAGTACAAAGATGTCAATGAAGTCAATGTACATCATCAAGAAGAATGAGAATGTCAAGATCAATGAGAAAGTCA\"\n",
      "k = 10\n",
      "d = 2\n",
      "kmers = mostfrequentapproxkmers(genome,k,d)"
     ],
     "language": "python",
     "metadata": {},
     "outputs": [
      {
       "output_type": "stream",
       "stream": "stdout",
       "text": [
        "Result:\n",
        "AGAATGTCAA\n"
       ]
      }
     ],
     "prompt_number": 178
    },
    {
     "cell_type": "markdown",
     "metadata": {},
     "source": [
      "## Frequent Words with Mismatches and Reverse Complements Problem\n",
      "\n",
      "Find the most frequent k-mers (with mismatches and reverse complements) in a DNA string.\n",
      "\n",
      "**Input:** A DNA string Text as well as integers k and d.\n",
      "\n",
      "**Output:** All k-mers Pattern maximizing the sum Count_d(Text, Pattern) + Count_d(Text, Pattern) over all possible k-mers."
     ]
    },
    {
     "cell_type": "code",
     "collapsed": false,
     "input": [
      "def countaproxkmersandreversecomp(genome, k, d):\n",
      "    kmers = {}\n",
      "    balls = {}\n",
      "    for i in range(len(genome)-k):\n",
      "        # print i, \"out of\", len(genome)-k, \"-\",\n",
      "        g = genome[i:i+k]\n",
      "        l1 = balls.get(g, ball_edit_distance_d(g,d))\n",
      "        h = reversecomplement(g)\n",
      "        l2 = balls.get(h, ball_edit_distance_d(h,d))\n",
      "        for kmer in l1+l2:\n",
      "            kmers[kmer] = kmers.get(kmer,0)+1\n",
      "    return kmers\n",
      "\n",
      "def mostfrequentapproxkmersandreverse(genome,k,d):\n",
      "    # print \"Starting counting\"\n",
      "    kmers = countaproxkmersandreversecomp(genome, k, d)\n",
      "    # print \"Done counting\"\n",
      "    top = max(kmers.values())\n",
      "    m = [k for k,v in kmers.items() if v==top]\n",
      "    print \"Result:\"\n",
      "    for i in m:\n",
      "        print i,\n",
      "    return m"
     ],
     "language": "python",
     "metadata": {},
     "outputs": [],
     "prompt_number": 187
    },
    {
     "cell_type": "code",
     "collapsed": false,
     "input": [
      "genome = \"GGGGGGTCAGGTAAAGGGGGGGAAGGTCATCATAGGGAAAAGGGTCAGGTCATAGGTATAGGTATAAAGGAAGGGTAAATCATAGGAATCATCATAGGGGGTCATCATAGGGGAAAAAATCAGGGGGGGGGGGGGGGGGTAAATCAGGTATCATATCATCATAGGTAGGTCAGGGGAAGGGTCAAATCAGGGGGGTCAGGGAAGGGAAAATATATCATA\"\n",
      "k = 9\n",
      "d = 2\n",
      "\n",
      "kmers = mostfrequentapproxkmersandreverse(genome,k,d)"
     ],
     "language": "python",
     "metadata": {},
     "outputs": [
      {
       "output_type": "stream",
       "stream": "stdout",
       "text": [
        "Result:\n",
        "GGGGGGGAA GGGAAGGGG GGGGGGAGA GGGGGGGGG CCCCCCCCC TCTCCCCCC CCCCTTCCC TTCCCCCCC\n"
       ]
      }
     ],
     "prompt_number": 190
    },
    {
     "cell_type": "markdown",
     "metadata": {},
     "source": [
      "## Protein Translation Problem\n",
      "\n",
      "Translate an RNA string into an amino acid string.\n",
      "\n",
      "**Input:** An RNA string Pattern.\n",
      "\n",
      "**Output:** The translation of Pattern into an amino acid string Peptide.\n",
      "\n",
      "Here is the [RNA Codon Table](https://stepic.org/media/attachments/lessons/96/RNA_codon_table_1.txt)."
     ]
    },
    {
     "cell_type": "code",
     "collapsed": false,
     "input": [
      "# Read the table\n",
      "import urllib2\n",
      "url = \"https://stepic.org/media/attachments/lessons/96/RNA_codon_table_1.txt\"\n",
      "table_file= urllib2.urlopen(url)\n",
      "codon_table = {}\n",
      "for line in table_file:\n",
      "    l = line.split()\n",
      "    if len(l) != 1:\n",
      "        codon_table[l[0]] = l[1]\n",
      "    else:\n",
      "        codon_table[l[0]] = \"\"\n"
     ],
     "language": "python",
     "metadata": {},
     "outputs": [],
     "prompt_number": 45
    },
    {
     "cell_type": "code",
     "collapsed": false,
     "input": [
      "print codon_table[\"UAA\"] == \"\", \"and\", codon_table[\"AAA\"] == \"K\""
     ],
     "language": "python",
     "metadata": {},
     "outputs": [
      {
       "output_type": "stream",
       "stream": "stdout",
       "text": [
        "True and True\n"
       ]
      }
     ],
     "prompt_number": 46
    },
    {
     "cell_type": "code",
     "collapsed": false,
     "input": [
      "def t_to_u(n): \n",
      "    if n == \"T\":\n",
      "        return \"U\"\n",
      "    else:\n",
      "        return n\n",
      "def u_to_t(n): \n",
      "    if n == \"U\":\n",
      "        return \"T\"\n",
      "    else:\n",
      "        return n\n",
      "    \n",
      "def DNAtoRNA(genome):\n",
      "    g = list(genome)\n",
      "    return \"\".join(map(t_to_u,g))\n",
      "\n",
      "def RNAtoDNA(genome):\n",
      "    g = list(genome)\n",
      "    return \"\".join(map(u_to_t,g))"
     ],
     "language": "python",
     "metadata": {},
     "outputs": [],
     "prompt_number": 115
    },
    {
     "cell_type": "code",
     "collapsed": false,
     "input": [
      "DNAtoRNA(\"AGTCA\")"
     ],
     "language": "python",
     "metadata": {},
     "outputs": [
      {
       "metadata": {},
       "output_type": "pyout",
       "prompt_number": 48,
       "text": [
        "'AGUCA'"
       ]
      }
     ],
     "prompt_number": 48
    },
    {
     "cell_type": "code",
     "collapsed": false,
     "input": [
      "def protein_translation(genome):\n",
      "    g = DNAtoRNA(genome)\n",
      "    splitted_g = [g[0+i:3+i] for i in range(0, len(g), 3)]\n",
      "    if len(splitted_g[-1]) != 3:\n",
      "        splitted_g = splitted_g[:-1]\n",
      "    trans = [codon_table[c] for c in splitted_g]\n",
      "    return \"\".join(trans)"
     ],
     "language": "python",
     "metadata": {},
     "outputs": [],
     "prompt_number": 79
    },
    {
     "cell_type": "code",
     "collapsed": false,
     "input": [
      "protein_translation(\"AUGGCCAUGGCGCCCAGAACUGAGAUCAAUAGUACCCGUAUUAACGGGUGA\") == \"MAMAPRTEINSTRING\""
     ],
     "language": "python",
     "metadata": {},
     "outputs": [
      {
       "metadata": {},
       "output_type": "pyout",
       "prompt_number": 80,
       "text": [
        "True"
       ]
      }
     ],
     "prompt_number": 80
    },
    {
     "cell_type": "code",
     "collapsed": false,
     "input": [
      "g = \"AUGGCC\"\n",
      "s = [g[0+i:3+i] for i in range(0, len(g), 3)]\n",
      "print s\n",
      "print s[-1]\n",
      "print len(s[-1:])\n",
      "d = [codon_table[c] for c in s]\n",
      "\"\".join(d)\n",
      "\n",
      "protein_translation(\"AUGGCC\")"
     ],
     "language": "python",
     "metadata": {},
     "outputs": [
      {
       "output_type": "stream",
       "stream": "stdout",
       "text": [
        "['AUG', 'GCC']\n",
        "GCC\n",
        "1\n"
       ]
      },
      {
       "metadata": {},
       "output_type": "pyout",
       "prompt_number": 81,
       "text": [
        "'MA'"
       ]
      }
     ],
     "prompt_number": 81
    },
    {
     "cell_type": "code",
     "collapsed": false,
     "input": [
      "genome = \"AUGUCCAGUAACGUGUCUGUAGUCGUCACUCAGUCUAACAACCGACUUCAUACACUGAACAGUCGACACGAGCCAAGGGCUUCCAAACUGUUUCUUGAUAUAGUUCAUUUGUCAACUGUCGAUCUAUUCGUUCUCGUGCGGUACCUAACAGGUAGAGAGUCCUCCAUUUCUCUCGCGCGAGCAGUGAGACUUAUUAGAAGCCCGUGGAGGGCAGAAGUCAGUGCUCUGUGUGAUGUCAUAUGUAAAGAGCCCCCUAGUGAAGCAGUGUCGGAGUCAGUGCAUGACACAAGUCUAUGUGGCCCGGAGUCGACACGCAGCCGGAGAAAGGCGGGGCGCAACACCGAUGCACGUGAGCUGAAUAGAAUUGAAUUUCUCCGGGUAAUAACAAGGCAGCUAGGUGGAGUGAAACGGGCUUCGGGCGUCUGCCACUUAACGCGAACUAUGCCGGGAUCGUGCAAACUCUUCAAUGCACCCAAGAUUAUGUCCCGGGUGAAUUUUACUUGGCAGACUCCGGACUGUUUGCCUGGAGGCCCCUUAUUGACUUCGCUUCUAGACGGCACGGUACAAAGAUCUCGCAACUCAGGCGUCGUCUUGCGUAUGGCAAAAAGUCGCGUCGAGGCUGUAUGGGCUAAGACCGAUCUGAACCAAUUUAAAGCAAUAGUGAGAGCGACCACGUCUCUGCUUGGGGUCCCAAAAUGGAGUUCUAUAUCCCGUUGCGAUAGAACCUCUGCCCGGCUCAUAUCAUCUAUUCCAUCGAUCGCAGUUACUACAAUCACGCUACACGAUGACGGGAUAACCUUUUCUACACCCCCCGUCUUACCAAUCUACUCUGGUGACAUAAAAGGUUUACGACGCCGGGGGCAGCCACGCUUAACUGCCCUUCCAUCUAAAAACUAUAGUCAUCCUUGUCCUGUCGCGCCUAAUAUCGUGGUACCCGUGCUAAUGGGUAGUCUUGCCGGUUCUCGACUCAGGAUUAAUACCCCCAUUCACGUAGCAUGUCUUCGUUCUGCCGAAGGCUUGAGCAUGAACAGUCUGGUUAUACUAGUCGAUGUAUGCACAGUGAGGACUCCUGCAGGUAUACUCAGAGGUUUAAAAUACACACGCGACCCACGGUUUGAGUCAGCAGGGUCAUCCAUGAACUUGACGAAAUGUUCGAUCAUGAUGGGUCCCAUCAGGUGGGACGUCAAUAUUUCUCUCGGCGAUACGAGUCGUGCCUUGUACGCAUGUCCCACUGGUCACUUCGCGAGGGCGGUGAAACACUGUAAGCACUAUGGUCGGUUGUGUCGCUCUGCACGAACGCACGGAGAUGUUCCACCAUCGAACCCCCGUAUUGACCUUGUUAUGAGUAGGCUUAUUCGCAGGGAGGGAUAUCGAGGCAUCGGAUUAGAUUGGCCCAGGAUCCCCGUCGAGGAUUUGCACAUCUCCGUCCGGCUACCCGUGGACAGCCCCCAGCCGUUCUUCACGUUACUUAAACAUAAGCCCGCACGCUCCCACGUUUGUCAACGCCGCACUCGCACUGUCGGGCGGACAACUGACGAAACGCUCUGCUGUAAAAUCGGGUGCCAUAUUAGGAGGGCAGACUCUAAUACCCGCAUACUGCAGCCUGCUGACGCCCGUCGAACGCUAGCGGCAGUCCUAUGCCUUGCGGGAGAUCUAAUCAUACAGUCCGUUCGCGUAAGGGGUAGCCUAUUCAAGCAAUCUUAUGCAAUAAAAGUACCUUCCUCGAAGAGCGCCUUUCGGCCAGAGACUCGUUUUCGCUUUGGGCUGGCAAACAUACAUGAGGACCGGUUAGAGGAACUUGAACAUCAAGACAAUUGCCCUUGGCGAUGCGGCGGACUCUCUAUUAGCCGCAUGGAGCUUGCAAUAAAUGAUAUGCAGGGUUCGCUUAGCCUGGAACUUGUCCAUAUAUAUGCAGACAUGUUCAGCUUUUAUUCUAACGCUGGACUCAUUACAUCUAAAGCCGGCGGUCGCCAGAUAGCUGACCACUUGGAUGUAUUUCUCUUGACGACUAACGACGGUCAUUAUUGUAGGAUGGGCGAAGCAAGUGCUGAUGAGAGCAGCUCAAGGCAGCAGGGUGAAACUCUAGAGCUCGGGAUGCGACGGAGCCGUAUAUUACGUGUUGUGGUGGUAAAGGUGUACCCUAGCCUCCGACUGACUGAUGAUGGUCCAUUUCGCCAGACUCAUGACUCUCGACGUAUAACGGAAUUUAGGUCCACUAUGAAAGGCCUUGGACUACGUGCUAUAGGGUGGGCCCCUAGGACUUGUACACCUACGCUAAUGAUGCUCCGCUCCAGCACCUUGUCCCGUUCGGCGCAAAGUAACCCCUGUUUAGUUAUCCGGGUCGAUCACGAGACCCUGGCCCAUGUAGAUUCCCGUGGGGCCAGUGGCGAGAGCAAUGAGCAAGCUCUUCGUAAUAACGGACCUCAGGCACCAUCAGUAACGGGAGUAGCCACAGUCCCGGGAGUUGGUUACGUACUUAACCGUAGCCACCUUAAGAGAGUAGAGGGCUAUGUAUGCGGGGAGCUCACUUCGCUAUGUGUAGGACCUAGCUUGGCUACCCGAAUCGUACUAGGUACUUUGGCUAUUUGUCUUUCGUAUCUCCCUCAUGGAACGUGGGUGCGUUCGGCAACUUUAGGAGUGCACUACGGGCACGGUGCGGAGACGGUACGAUCACGAUCCAAUCACAUACGCCACGGCAUUUUAAUGGCAGAUAGUAGCUCGAGACCAGGCCAACUCGGUAUCUACUCUGGCUACUUUAGAGAACGACGAAUCCCAUUGAGGGCGAAUCGCAACCGUUCUCUACUACUCUACGUUUCUAGUAUUCUCCUAGCUCAGCACGUACAUCGCCGGGGAAAUUGCGCAACCGUGGAAGGCAGCAACCCGCUGAGCUACAGGAGUUCGCCGACUCGAUGCUGUAUAAUAGGCAUGACGACGUGCUCUUUCUCAAUAUUACUACCGGCCAAUCGACUGUAUGGUGUUAGAGGUACUGCGGUAACGUUUAAUGCCGUUGGGCCGGACACUAGCCCGACACCUUCGAGUAGCGCCCGGUUAAAACACGAACUUCAGUCCCCCCAUUCCACAUGCGCUAGCCGCCAAUCGUGCUGCUCUUUAGCGAAAGCAGUUACGUGGCAAGAAAUCCAGGACAUAAAUGGCGGUUGUAAUUAUUGUCAUUUAAAAGGGUGCCCAGCCGCACGGACCAAGCCGAGCGCGCGAUGCCGCUUCCGUACAAACAUCUAUCCUUCGGCAGGCGUACUGAGCCUUAGAACAUCGACAUUUGCGUCACCUAAUCACUUUCAGAUAAUAAUAAGACGCCUGCCUGUACUCUUGUUAGUGUCAGCACAGCGGAACAUCAUCUUAUCCUGGGGCUGUCGGCUAUGUCGACGCGCUCAGAGUUCGAACAAGAAUUUUGGGCCCGCGAUCCCAUGCUGUGGUCCUAUUAGUGGAAAAGGAACGGAUAAAAUUUUAAUUAUACUAAAGAUGGAAAUCCCAUUAACACUGCCUUUAGUGGGCGCCUAUGUUGAAAUUGUAUCACUUCGUGUACCUACCAAAGUAGCCAAAGCUUUGAAUCGUGGUAAAAAAUGCCAUAUUACAGUGUGUCACAGCAAGAACAGGCGGUUCGCGACGGUAACCCCAGUCCUCUCAAUAACUGUUUCGGUUCUAUCUACGGAGGGAGUCACCCGCAAGAACCCUAGGACUAUUACUGAGAAGGUGGGCGUGAGAGAGAUAUGGUUAACUCGCGACUCCGCGAACUCAGACUCGCUAGAAUUGACACAGUGUUUAUGCUCAGCUACACCUAGAUUGCGCAUGAUUCGUUCGGGACGUAUAAUAUUGGCUACGCGAAGUAUAGACUGGCGUCUACCCACAGGUCAGCGUGUUUUUAGAGCGUCGUUAAGCGCUUUCGGACCUAGCGCUUCGCGACCUGCUUCUCUAUGCCGAAUCUUCCGCCGCUGGAAUACCGUUCCAUGCCACGUCUACACUAGUUGUCAGCGAGGGUUAUACAUUCCCGCGCGUCGAAGCUCUAUUUAUCCGCCCUUCGCCUGUCACAAAACUUGCAGACUCUUGGUGAUCCACAUUGAUGUCUCUCAAGGCGUGCAUACCACUCCAACGACAGAGGAUACAUUCGACUUGAACUCACGGUCCUUGCUGCAUACCUCUAAGCACAUACAGCCGUUUUAUUGUGAAGGCGACCUCUUUGUGACGGAGGAAAGGUUGGCCAGUCGAUAUGUGGAGACAGAGGUAAGAAAAAACAUCAGUUUUCCAUUUCUGGCUUUCCCUACUACGAGUCCGAGCCGAGCUAUUCAGGCAAGAACCUUGUUACAGCUUAUCCUCAUAAACUUCUACGGGAUGAAUAUGUACCCACUGAUACCUAUGUCGAGAGUUAUGCUCGAAUUUUGUUUAUUGCCCUUGCCGACUAGCCCUCCCGUCGGGUACCGAAGGAUUCCGGGAAGGAACUCUGUAUCUACCCGCCGCCCAUCACGGAGAAAGUACGGUUGCAGCGCAGUGGCAUCGCCUAAACCACACCUUUGUGGAAACAACGUCAGGAUGCUGUGGGAACUACACGUGAGCAACACUCGCGGAUCCAUUAUAUGGAGUCACCCAGCUAAUAUUCGUACGGGAUUUUCUCACCGCGCCGUGGUCAAUAUACUCCAGUAUCAACCGAGCACUGUACCAACAUGGUACACUCUAGAUAGCAGCAAUACCGGAGAUGGGCUUGAACGAGACCACAUAGGAGGCCCGAAGCUAAUGUCAAUAAAGCUGCGGCGCAUUUAUGUUCAAUGCCACAAGUGCUGCCGGAACAAAUCGGCACAGGAAACAACCAACCCGUUGAGGGAGGUGGCAGCAAGCUUGCAAUUAGCAAGAGGACCUCCAACAGUAUGCCAGACCGACCUGUCUUGUGCAUGUCGUCACCUGACGUGUAUGCCUAGCUAUCGCCCAUCCUUGUGUUCUUCCUGGAGGUUAGUCCGCAGCCGGGCUACUAACUGUGAACGUGGCGUUGAAGAACCACUAGUUUUCUUAAGUCAGGCAUUGUUCAAGUUCUACUGCGCCGUCACACGCGAAACAGCCUCUUUCACACCCUCAGUUUCUCUACGGCGCAAAGGGAUCGGCCUCGGUCAGGAACUAUCAACUUGUUCUAUUCGAUUUCCAUCUAGCACAAGCUACCCCCGCGCUCUUCUCCCCCCAACAGACCUGUUGGUGCCAACUUACUGCUCGUCCAAAGCAUCCAGCUCUAUCCAUUUUCUCGUAUUGUGGCAAGGACUCGACGGCAAUUUUUGUAAUUUUCGUCAUUGGGCGUACAUCUUCGUGCACCAAUCUAAUGGAGGUCUGGAGUCACGGGUACAUUGGAUGAUAAGGGCUCCCAAGACAACUUUACCGGAUUAUAGAAUAAUAGAGCCCCCUCAUCGUAUAAAGUGUGCUGCGCAAAACUUGCAACAUGCGAUCAGAGGUCCAACUCGACUUGCUCCAAAAACCAGAUUUCUUCGUGACCGGUCCGCAAGGUAUCCAGGAAACCGACGCAUGUACAGAACGAUGAGCUCUCAAUAUACUCGCAAGUCUUCGAGCAAAAACUCAGGGUCCAGUAUCAGUCCUGAAAAGCGUCCUAAGCUAGCUAGCUUGGAUAAACCACAGCGCAGUGUGAACAAAGGCAUCAAGCGUCUGCAAGACAGAACCCCUGCUUCCCUGGCAUAUCAUGGCCUAGGCAUAGGCGCAGCCUCGCUAAAAGUUUCCGCCACUCGUCAAAGCCAGGUCCAGACAGUCAGUCCCCAUUUCUGGCAAUAUGAGUUCCUAGCCAUCACUGACGGUCUACCCUUUCAGCAUACGCAUGAUACCACUGUAUUUAGACGACCUCGUCCGAAAAUGUGCGGCUGUAGCAGGGAUCUUGGGUCCAGUCCGCACCAUGCUAAAGCGCCAGAUUGCCUUUUACACUGGGCACGUGUGCGGGCAAUCACGCAAGGCCUCACGUGGCAAAGCUGGGCAGCAAUGGUGUCACACUGGCGGACACACGCACAAACUUUUAACGGGACUCCUAACAGGCAAGAAAACGCUAUGCACAAAUAUUUGCACAACUGGGGACGCGCCACCGAGACUAUGGUUCACAUGCUACCACGAUUCAUGGCCAUCACAAGAGGCGCCCACCCGCAGAUGCCCUGCCCAACAUGGGGCCAUCUUGCUACUCCUGCAAGGUUUGCUCAUCCAGCGUCUGAGGAAGAUGGGGGAUUAAUGCGACUAGUGUUUCAUGGAGAUCUUGAACCCCACACUUGGGUUACUUAUAAGCAUACACUAUAUUCGUAUGCCUCACAGAUAUUAAGUCAGGGCAAGCCACUUCCGAGUACGUACAUGCGUCGUCCGUUUGGACAGGCCACGUUCGUUAGCCAUGCGAUGCCUGCCGGCGACUGGCAGGAAAGAAGACAGGAACCUCGCUGCGAUGACUCAUUUAGCCCAAACGUGUUGUGUUAUUCAUUACGUCGUGAAAUAAGAGACGAGCAUCUGCUGAAAAGAAGGAUCGUUAAAUGGAUGAAGCCUGAAAUCGGUUUGACCAUAGAUGACCUCUCCCUCACUGGUCUCGUAAACAAGACAUAUAACGACCUUCAAAGUACGUGUUCCAAUCGGCGGGGAGCGUACGCGCUAAGCGCGCUCGUUUAUUCUGUCCAAUACCACGGGCCCGGGCGGACAUACUGGGCGAGUGUCGGGGCCCUAAUAGACAUUGACCUAAACUACAUGGAGAUGCUCAUCUCACGGUCGACAAUUUGUCGGGGCAUUGGCACGUAUUUCGCUAAUGGUGCCCUCGGGGCGCGGCCUAAAGUUUGUACAGCGCAUGGGAAGAAUCGAUUGGAGCUAGCUGUCAGCUUGUGGUGCCUAAAUCUAAGACAGCUCGAAAGGGGGGAUUCUAUGGUCUUGUGUUACAACUGUAUCAUCGCUGAUACGUCAACUGCUCGAAUAGAUCGUGCCCUUCCUAUAGAGUUUCUAGCCUUGCCGUCACUGUCAAGCUUGAUCAGAUGCAAUGAAGUUCUUCUCCGACGAUCCCGGUAUGUAAAAACCAUCAUGUGCUACACGAAAUUCACGCCGAUAAGCAAAUCGGUGUUCUUGUGGUCGACUUCGCGGACAAUCGAGUCUCUCGUCGUAAGCAAGUCAGCCGGGUCCCCCUAUGUGCACUACCUAUCAUUUUGGCUACUACUUUCUGAGUUACUAUAUUUAAGCAACACCGUAGCGACCAUAUAUUCCGGUCCCUCCGGGUGCACUUAUUUGUUUACAUGGCGGAAAGCUGCUCUCGAUCCGCCACUUCACUCCUUUCUCCGGCCCUAUUAUGAAAGACCGCGCUACUUUUCUGGUCCACUUAGGGACAAUCCACCUCGAAAUCCGACGCCACCACGACACAGUUUUCAACUUGCUUCCAGGUCGCACCGCCCACUUACUUCAUUAGCAAUUAUACGGUCGGAAAUAAGAACAUGGUCGGCCUCAUUAAGGCGCAUCGAUUCCCUCUCGUUGCAUGAGGCUGUUGUAAUAGAUUUCCGUCGUUGGUCAUGGGGCCCGCCCCGUCGGACAGUGGGCAUACGUCGGGCCAUCUAUCUAGAAAAACAGCGGUGGAUCCGUUGUAAUGCCGUGAUUUCUGAGGUUUCAAGGCUCCGUAGCGCAAGUGCUAGGUUGUGGUAUAAGGAGUCUCCUUCCCCCUUCAUCUGUAAAGCAGGGCGUUGCUUUGUACCCCGUAGAUAUGUUCCGAACCGCGGGCGACAGGGGAUGCUCAGCGGCAGCAUAGGUGUUUAUGCUGUCAAGCGUAGGGCCAGAACUGACGUCCGGUCGCAAAGGCUUGAGGCCACCUUGUUACUGCCACUCGGCAGCUUAAUCGCCCUGAGGACCCUAUCCGGGAUGACCAUCGCAGCUACUAACACAAGGGCAGCUUUGAUUCAGGACAUUCCGACACCGAAGAGCUCGGAGCUCGUGGGUCCGGAUGACUCAUCGGAACAUCAGUGUCAGGUAUAUCGGACUCAGUGUUCUAAUCCGCUACGGCGAACUGGGCGGAUCUGGGUAGCAUUAACGCAGACGGGGAUGGGGGUAAUGUGCCCGAGUCUUGGCGCGGUAGACUCAUACAGGGAGGUGGUCCUGCUUACAGUCUUACGUGGUAAGUACGAAAGAGUGGCCUACUGUUCCAAUAGGUGGCACGGUCGCAAUGGCAACACAGAUACAAAGGUAAGAUGCGGCAUUGAGAUUUAA\""
     ],
     "language": "python",
     "metadata": {},
     "outputs": [],
     "prompt_number": 229
    },
    {
     "cell_type": "code",
     "collapsed": false,
     "input": [
      "print protein_translation(genome)"
     ],
     "language": "python",
     "metadata": {},
     "outputs": [
      {
       "output_type": "stream",
       "stream": "stdout",
       "text": [
        "MSSNVSVVVTQSNNRLHTLNSRHEPRASKLFLDIVHLSTVDLFVLVRYLTGRESSISLARAVRLIRSPWRAEVSALCDVICKEPPSEAVSESVHDTSLCGPESTRSRRKAGRNTDARELNRIEFLRVITRQLGGVKRASGVCHLTRTMPGSCKLFNAPKIMSRVNFTWQTPDCLPGGPLLTSLLDGTVQRSRNSGVVLRMAKSRVEAVWAKTDLNQFKAIVRATTSLLGVPKWSSISRCDRTSARLISSIPSIAVTTITLHDDGITFSTPPVLPIYSGDIKGLRRRGQPRLTALPSKNYSHPCPVAPNIVVPVLMGSLAGSRLRINTPIHVACLRSAEGLSMNSLVILVDVCTVRTPAGILRGLKYTRDPRFESAGSSMNLTKCSIMMGPIRWDVNISLGDTSRALYACPTGHFARAVKHCKHYGRLCRSARTHGDVPPSNPRIDLVMSRLIRREGYRGIGLDWPRIPVEDLHISVRLPVDSPQPFFTLLKHKPARSHVCQRRTRTVGRTTDETLCCKIGCHIRRADSNTRILQPADARRTLAAVLCLAGDLIIQSVRVRGSLFKQSYAIKVPSSKSAFRPETRFRFGLANIHEDRLEELEHQDNCPWRCGGLSISRMELAINDMQGSLSLELVHIYADMFSFYSNAGLITSKAGGRQIADHLDVFLLTTNDGHYCRMGEASADESSSRQQGETLELGMRRSRILRVVVVKVYPSLRLTDDGPFRQTHDSRRITEFRSTMKGLGLRAIGWAPRTCTPTLMMLRSSTLSRSAQSNPCLVIRVDHETLAHVDSRGASGESNEQALRNNGPQAPSVTGVATVPGVGYVLNRSHLKRVEGYVCGELTSLCVGPSLATRIVLGTLAICLSYLPHGTWVRSATLGVHYGHGAETVRSRSNHIRHGILMADSSSRPGQLGIYSGYFRERRIPLRANRNRSLLLYVSSILLAQHVHRRGNCATVEGSNPLSYRSSPTRCCIIGMTTCSFSILLPANRLYGVRGTAVTFNAVGPDTSPTPSSSARLKHELQSPHSTCASRQSCCSLAKAVTWQEIQDINGGCNYCHLKGCPAARTKPSARCRFRTNIYPSAGVLSLRTSTFASPNHFQIIIRRLPVLLLVSAQRNIILSWGCRLCRRAQSSNKNFGPAIPCCGPISGKGTDKILIILKMEIPLTLPLVGAYVEIVSLRVPTKVAKALNRGKKCHITVCHSKNRRFATVTPVLSITVSVLSTEGVTRKNPRTITEKVGVREIWLTRDSANSDSLELTQCLCSATPRLRMIRSGRIILATRSIDWRLPTGQRVFRASLSAFGPSASRPASLCRIFRRWNTVPCHVYTSCQRGLYIPARRSSIYPPFACHKTCRLLVIHIDVSQGVHTTPTTEDTFDLNSRSLLHTSKHIQPFYCEGDLFVTEERLASRYVETEVRKNISFPFLAFPTTSPSRAIQARTLLQLILINFYGMNMYPLIPMSRVMLEFCLLPLPTSPPVGYRRIPGRNSVSTRRPSRRKYGCSAVASPKPHLCGNNVRMLWELHVSNTRGSIIWSHPANIRTGFSHRAVVNILQYQPSTVPTWYTLDSSNTGDGLERDHIGGPKLMSIKLRRIYVQCHKCCRNKSAQETTNPLREVAASLQLARGPPTVCQTDLSCACRHLTCMPSYRPSLCSSWRLVRSRATNCERGVEEPLVFLSQALFKFYCAVTRETASFTPSVSLRRKGIGLGQELSTCSIRFPSSTSYPRALLPPTDLLVPTYCSSKASSSIHFLVLWQGLDGNFCNFRHWAYIFVHQSNGGLESRVHWMIRAPKTTLPDYRIIEPPHRIKCAAQNLQHAIRGPTRLAPKTRFLRDRSARYPGNRRMYRTMSSQYTRKSSSKNSGSSISPEKRPKLASLDKPQRSVNKGIKRLQDRTPASLAYHGLGIGAASLKVSATRQSQVQTVSPHFWQYEFLAITDGLPFQHTHDTTVFRRPRPKMCGCSRDLGSSPHHAKAPDCLLHWARVRAITQGLTWQSWAAMVSHWRTHAQTFNGTPNRQENAMHKYLHNWGRATETMVHMLPRFMAITRGAHPQMPCPTWGHLATPARFAHPASEEDGGLMRLVFHGDLEPHTWVTYKHTLYSYASQILSQGKPLPSTYMRRPFGQATFVSHAMPAGDWQERRQEPRCDDSFSPNVLCYSLRREIRDEHLLKRRIVKWMKPEIGLTIDDLSLTGLVNKTYNDLQSTCSNRRGAYALSALVYSVQYHGPGRTYWASVGALIDIDLNYMEMLISRSTICRGIGTYFANGALGARPKVCTAHGKNRLELAVSLWCLNLRQLERGDSMVLCYNCIIADTSTARIDRALPIEFLALPSLSSLIRCNEVLLRRSRYVKTIMCYTKFTPISKSVFLWSTSRTIESLVVSKSAGSPYVHYLSFWLLLSELLYLSNTVATIYSGPSGCTYLFTWRKAALDPPLHSFLRPYYERPRYFSGPLRDNPPRNPTPPRHSFQLASRSHRPLTSLAIIRSEIRTWSASLRRIDSLSLHEAVVIDFRRWSWGPPRRTVGIRRAIYLEKQRWIRCNAVISEVSRLRSASARLWYKESPSPFICKAGRCFVPRRYVPNRGRQGMLSGSIGVYAVKRRARTDVRSQRLEATLLLPLGSLIALRTLSGMTIAATNTRAALIQDIPTPKSSELVGPDDSSEHQCQVYRTQCSNPLRRTGRIWVALTQTGMGVMCPSLGAVDSYREVVLLTVLRGKYERVAYCSNRWHGRNGNTDTKVRCGIEI\n"
       ]
      }
     ],
     "prompt_number": 230
    },
    {
     "cell_type": "markdown",
     "metadata": {},
     "source": [
      "## Inverse Protein Translation\n",
      "\n",
      "Given a protein, provide a list of RNA sequences that would translate into it. "
     ]
    },
    {
     "cell_type": "code",
     "collapsed": false,
     "input": [
      "protein_table = {}\n",
      "for k,v in codon_table.items():\n",
      "    protein_table[v] = protein_table.get(v,[])+ [k]"
     ],
     "language": "python",
     "metadata": {},
     "outputs": [],
     "prompt_number": 41
    },
    {
     "cell_type": "code",
     "collapsed": false,
     "input": [
      "protein_table[\"L\"]"
     ],
     "language": "python",
     "metadata": {},
     "outputs": [
      {
       "metadata": {},
       "output_type": "pyout",
       "prompt_number": 42,
       "text": [
        "['CUU', 'CUG', 'CUA', 'CUC', 'UUG', 'UUA']"
       ]
      }
     ],
     "prompt_number": 42
    },
    {
     "cell_type": "code",
     "collapsed": false,
     "input": [
      "protein_dictionary = {\"His\":\"H\", \n",
      "                      \"Gln\":\"Q\",\n",
      "                      \"Pro\":\"P\",\n",
      "                      \"Arg\":\"R\",\n",
      "                      \"Leu\":\"L\",\n",
      "                      \"Asp\":\"D\",\n",
      "                      \"Glu\":\"E\",\n",
      "                      \"Ala\":\"A\",\n",
      "                      \"Gly\":\"G\",\n",
      "                      \"Val\":\"V\",\n",
      "                      \"Tyr\":\"Y\",\n",
      "                      \"Ser\":\"S\",\n",
      "                      \"Cys\":\"C\",\n",
      "                      \"Trp\":\"W\",\n",
      "                      \"Phe\":\"F\",\n",
      "                      \"Asn\":\"N\",\n",
      "                      \"Lys\":\"K\",\n",
      "                      \"Thr\":\"T\",\n",
      "                      \"Ile\":\"I\",\n",
      "                      \"Met\":\"M\"}"
     ],
     "language": "python",
     "metadata": {},
     "outputs": [],
     "prompt_number": 43
    },
    {
     "cell_type": "code",
     "collapsed": false,
     "input": [
      "tyrocidineB1 = \"Val-Lys-Leu-Phe-Pro-Trp-Phe-Asn-Gln-Tyr\"\n",
      "t = tyrocidineB1.split(\"-\")\n",
      "t = [protein_dictionary[p] for p in t]\n",
      "tyroB1 = \"\".join(t)\n",
      "t = [len(protein_table[p]) for p in t]\n",
      "# Number of DNA strings of length 30 transcribe and translate into Tyrocidine B1:\n",
      "reduce(lambda x, y: x * y, t)"
     ],
     "language": "python",
     "metadata": {},
     "outputs": [
      {
       "metadata": {},
       "output_type": "pyout",
       "prompt_number": 140,
       "text": [
        "6144"
       ]
      }
     ],
     "prompt_number": 140
    },
    {
     "cell_type": "markdown",
     "metadata": {},
     "source": [
      "## Peptide Encoding Problem\n",
      "\n",
      "Find substrings of a genome encoding a given amino acid sequence.\n",
      "     \n",
      "**Input:** A DNA string Text and an amino acid string Peptide.\n",
      "     \n",
      "**Output:** All substrings of Text encoding Peptide (if any such substrings exist).\n",
      "\n",
      "**Note:** The solution may contain repeated strings if the same string occurs more than once as a substring of Text and encodes Peptide."
     ]
    },
    {
     "cell_type": "code",
     "collapsed": false,
     "input": [
      "def look_for_protein(gen, p):\n",
      "    output = []\n",
      "    g = DNAtoRNA(gen)\n",
      "    while g:\n",
      "        if detect_protein(g, p, 0):\n",
      "            output = output + [RNAtoDNA(g[:len(p)*3])]\n",
      "        g = g[1:]\n",
      "    return output"
     ],
     "language": "python",
     "metadata": {},
     "outputs": [],
     "prompt_number": 162
    },
    {
     "cell_type": "code",
     "collapsed": false,
     "input": [
      "def detect_protein(g, p, count):\n",
      "    if len(g[:3]) != 3:\n",
      "        return False\n",
      "    #print g, count, p[count], codon_table[g[:3]]\n",
      "    if count + 1 == len(p) and codon_table[g[:3]] == p[count]:\n",
      "        return True\n",
      "    if count + 1 < len(p) and codon_table[g[:3]] == p[count]:\n",
      "        return detect_protein(g[3:],p, count + 1)\n",
      "    else: \n",
      "        return False\n",
      "    \n",
      "def look_around(g, p):\n",
      "    # Forward\n",
      "    l1 = look_for_protein(g, p)\n",
      "    # Backward // I'm guessing this could be done on the forward direction too...\n",
      "    l2 = look_for_protein(reversecomplement(g),p)\n",
      "    l2 = [reversecomplement(l) for l in l2]\n",
      "    #for l in l1+l2:\n",
      "    #    print l,\n",
      "    return l1+l2"
     ],
     "language": "python",
     "metadata": {},
     "outputs": [],
     "prompt_number": 163
    },
    {
     "cell_type": "code",
     "collapsed": false,
     "input": [
      "geno = \"CACCTACTTATGTAGAAGTTCGTTCACGTAGCGAACGCGCTGTAGCTACATTGTTCCCGACTCGTCATCATGAATATTTTCATTTTATCTCCCGCGTCTGGTGTCCGTTCAGTCATCAATCCTCCTAATTGGTACCACGCTAAGCTGTGTGCCTCCTCGCTGGATAACCATACGCCGAGGTTATTTCCGACGGCTTCCGCTCGGATCCGGCTGTCGGCAACGCACTGTATTAGTGCAAACCCAGCGGAGGTCTTGTGCTAAGTCTATGAGCCCATGTACTATACGAAGTTTGGGCACTGTCAAGAAGATGCCGGGAACCGCTACTAAAGGAGTTATAGAAGGGAGCCGTGTGGTACCCCGCATGGCGCTTAGGCGAATTCAAATGGTCATGCGATCACAAATATCCCGCCCAATTACTGGGATCGCGTTACCTACTATGAAATCGCCTGCCTCAGTTCACTTAGCTAAGACAGTTCTATTAGGAGTTGACAGAGGCTAGTAGCAGTAGACGTAATTTGAGGTGGGGAGGCGACCCCCGGTTATCCGTTCCCGAGCCTTCCATCCTGTCACCAACCCTTCCCGGCAGTTAAAGAGCTCTAGTCCGACATTGTATGAGGACAATCTTTGAACTGTCACTCGACGTCTAGTAGCTAGGGAAAGGATTGCGTGTAGCTTATGTGTTCCAAGTCCATGAAATGATAAAGCGTCACCTCAATCAGAAAGGCCTCAGAACGACAGTGCGTAGTGCTAGCCCCTTGATCAGTTTATAAACTCAAACACTTGGCCCAGACGTGCAGAGGTTCATTGAGCCTAGAGTTCTCATGCTAGGAAGACAGCTAGTAAAATCGGCGTGGTTGTTGGAACACACGAAGCACTGCCCTCGAGCCAACCTAGGAGATCTCTATCCAGACGAGAGTAATCTTACCGCGGGTCGTTGTGTCATATATACGGAAACGCAAACATCAAGGTCACCATACAAAAATGAAGATATTCATGATGACCTCGAGACTTCGCGTTGAATGGCTTGAACAGACTAGACACTATCATGGCACCTCCATCACCGTCAAGCTTAAAGGTATTCCTCAACTCGTGGTGCGAAAGTTGATGGTGTCAGCCGACCCAGGATACAGCGCGGAGCCGAAAGTCTGTTACGCGCTACCAGGGCTTTGAACGGCTTGTCATCATAAAGATTTTCATCTTTCTGGAAGTCATCATGAATATTTTCATCTTGTTCTTTCCACAGTGTAACCACTGTCAAACAAAATGAAAATTTTCATGATGACAAGTAGGAGCCGAGGTCACTGGACCCTGATAGCGTATCGATCTACTGGGGGGGCTGTTCCACTCCGGCGGGGTGGTCTGCAGCAAATTGTATGTTCGAAACTCGCGTTCTGACTAGAACAGATTGGGTGGCTAACATAGATCGTGTTAGCGTGTGAGGGTCAGGAGAGGCCGGGTCTTCTGCATTAAAAAGAGTGTGCGGCGATGGTTGCCGTAGGTCTGCCTAGATATCTATATGGAGTCGAACGTCTCACCCGATCGCACCCATGCATATAAAACTTAAAAGTGGCTCATGCAATATGAGGGCTCGGCCCCCATTTTGCTTCACCTTAGTCTCGGAGACGCCCATAGACGCTTGAGTCAGCGCGCAGTGGCAGTAGCGACCGATCGAAGGCCGCTCTCAGTTTACAAGTTTCACTGTCTTATTAGCCCATGGTAGACGGTTATCTCGGACGGCGAAGCATCTTAACGTTTCTGCCTATCGAGTTATACGTCAGGCCAGGTGGGTAGGTCTCGAAGCCTTGCGCCCGGTCACAATCGCTCCCCTTCTATACACAAGATGAAAATTTTCATGATGACGAGTCGGACGTCTATCTGGATCGCGACCCATTACCGCCTGGTTCCTACTGGTCATCATAAATATCTTCATTTTTCAACCGATCCACCGTACTTAATTGTAAAAAAAGGAAAAGTAGTTGGCTCGCCCCTACGTCGTAAGATGAAGATTTTCATGATGACTTCCAGGTAAAGTTCCTAAACAGGGGGACGCATCACGAAGCCTTTACGTCGCGAGAGGAATATTCACTTGTGGCGACAAGGCGCGTGATGAGGCGCGTTGAGTCACATCGTGGGTGCTGAACCTCCACACACGACGTAGGAATGCGATTCCGCGCAGCTTGGGGAGTAGTGGTCTGAACGTCATTCTAGGGAAGGTTGATGGAACCCACGGGGTATCACGTTTGGATTCTAAGTAAGTTGGCGAATACCCGTAATGGCAGCCAATGGGTGGCGCTAAGATGAAGATCTTTATGATGACCTCCCGCAAAGATATTCGCGCGAATATAGGGGCACCCCTCCGCACCTTCCAAACCCTTTGGGCCCGAAAGTTTAGCCGAGGTCACTTCAGGGAAGTATTGCTGACCAGCAATGGTAACTAAACTAGCCATAATCGGTTGGGCTTCGAGGTGTCAACGCGTAAAAGTTATACCTCTCCGGTCCGAGTGTCACAATCTGCCCCGTTGAACGACAGCTAGGGTTCCTTCATACTTGATTGCTGCAGTACTATACCTTGGAAGCGGGTCATATGACCAATTCCCATGCAGACGCTGAGTCCGCAGCTTGGCCTCGGATGCACCAGACGGTCCGGGTCTCACCCTTTTATTTCCCCGTGGTACCCTCGGGAGTCTAAGGTATGGTCTTTGTTGGCAAACAGTCGACCGATACGCGGCCCCTATAACGCACCACGCGTGAACTTGGACTCTCCCGTAGGACGCCGGGACCTACATCAGTCTGAATCTAAACTTTCACGTGCCGTTAAGCCTCTGCGCTACGGTCAATGTAGGGCCTAAGCCCGGAAAACGCATTACTGACAGGGAGTGGTGTACGAAATTGCGTCTACAAGGTGCCACCGTACTCGGGATTCCCTACGTCGCGCCCGCATTTGACGATTTTTTTGCCCTGATGCCACGCGGGTCTCTAAGGAGGCAGAGACGAGAAATAAATCGGACCCTTATGGGCGCTATACTGCTTGAAATAGTTACTGTACTGCGTCGCCTGTATCGCACGTAGCGTAAGGGACCATCCGAATACACGTACGTTGGCCCAATATCAGTGCCTCTGCTTGCGCCAGATCCGCAGTATGGTGAAAGGATACGAACAGAATACTTTGTCTATGTCGGCCACGATATACGCTGCTCGTTAGCTTTGATCCGCGTGTTTATCTTCGCTGCGATGTCATGAATGACATCAAGTAAGTAACGATAACCCTGGAAAGGAAATTCGAGGTGTTCACCTCATGTGTTAAGAGATCCTGGCCTTCGCGATGTCATCATAAATATTTTCATCTTCAGTGAGTCCCTCGGCGTCTCACTTCCAGCTTTTTGACAGGCCAATAAATTAGATTCATCGTACAAATAGCCGGCCCTCCACGAAGGAACCAGGTAGAGTCCTTGAATTGGCACTACGGGCCGGGGCCGACCTAAGTGGCAAAGCTTGAGGTTAACTTTATAAGGCGCAACGTCTTCCAATTGACCTCTACACGTTAGTCGAAACCAACAATATTAGACTTTGTCAAGTGCACGACGCAGTTCGCGACGAGCTAGGTATACTCAGTTACTACAGAATGCTGGTCAGAACCGATATTACCCGACTTAAAATTAGATAGCACGTGTCTGCTCCCGTGCTCGAGCCCGTGCACCCTGTACGAAGTTATAGATTTCGTATGATTTAGAGGTGGTCCCACCATGTTGGTGAAAATGAAGATCTTCATGATGACTAGCCGAACTGGCGGGGAGCCCGAGATGTCATCATAAATATTTTCATTTTACGTTCTAGTCTAACAGTATGGGGGGCAGACGAGGGCTATTACGCACGTCTGTCTGAGGATCGCCGCCTTGCGCCGACCACCTGCCTAGAAGTCGAAGCGTAGCCAGCCGGCCAATGCGCCTCTATAGCCTGATTTCATTTCATCCAGAGATTCGAGTGCCCTAGGAGTAGAACCAAAACACACGCGCTTCGGGACTACGTGAGGGAATAATGTTAGGGGTGCTTGGTCTTGATTGTGTTAGGCTGTTAGCCAATTTTCCATTGTTAGTTTGGTTTTGTGCAGTGGTGGGGAAAGATCATGATTATCTACTCCTGTTCGTCGGAGAGATAACTGAATAACCGACACAAGCTCAAATTCCGGCTGAGTAGCTACTGACAACTCTTGACGGCGTCAGATGGAGCTAGGTCGGTTTTATTGGGATGGCGTTAATCCACCGTTGAGCGTACAGTCTCGTTGCCCCGTTTTGCCCACAGATCGTCTCTCGTCCCTGAAATCACTACTTACTATGAGATGGATCATTACCTCTGTACCCTTCAGTATTAACGGTGACAAATCCCTGAAAAGGTGAAATAGGCCACATCCCCGCGTAAGGATGAGTCCATACCTCGACTTGGATTATTCCCCCGAAGCAAGTCGAGTGTCGCAAACGGCGCGGCGAGCGCAGCCAATAGTCGCCGGTACGACGCTGAGTGGACCTGCTTACTATTCCATTCTTACTTCCAGCCCTAACGCGATGTTCTTAACCGACAGTCCATCGGAAGTGCAATTGGGGTGATTCTATTACTATAAGGATTTTCCCGTAGACTCGCACATCGATCGTCTTACCAAAAAAAGACGCTTTGGCCCTCGAAGTCATCATAAAGATTTTCATCTTCTGTCTGAGCCTAGCAAGATATAGGAGCTCTGGACGGTCGAGGTAGTATGTGATGCGTTATGCGCCACTGTCCTCTAAACTTCTAATACCGACTACTGAGCTCATAGAATGACGACGCGGCATTGCATTGGCAACAAGTCTCTCGGCGCTGTTTATAAGAAAGCGGACGACAGGCCCATAAACTGACCATTGGCGCCAACCATACGACTAGATTTTCGCCGACCAAACAAGGCCCCCGGCTAGTCATCATAAAAATCTTCATCTTCGACCGTTAAGGTTGGCGTGCCAAGATGAAGATCTTCATGATGACATCAAGAACCTGCAAGAGGTTGAAGTAGTATTATGTGACAGTAGCCTCTTCTTGGTCAAGGAAGCCCTTCTTGTCCCACTTAGATGCACTCCAGCTATGGGACATGCGACTTGGAACAATGAACCCGGTACACCGGAATTGACTTCCTATAGTATCGAGAATCTGGCATCAACAACCCAGACATTGCGCCCAATTGAATCTACCTGCTTTGCTTCGGAGGGGACACCATCTGGCTTCCTGAGACTAACGACGCTTTTTTGCGTAAACGGAGACCTCTGTAGGTATATGTACAAAAAAGCCGTAACTCCCGCGTTACTCTGTATGCTGCCAGGTAGGTCATCCATAATTGTAGCCCTACAGTCATTAAGCGATCGGAGAAATGAGTTGTCGCATGCTCTCGCGGGAAGTTGCGCGGCAATCAATACTCTGAACATTCTCCCCTGGTCCATTTGCTGTCGATCGCTATCAATCCATAGCATATGGCTTCGCGGGCTCAAACAATCAGGGCTGGTGATGTTTCCGACACTGTCGCTGTACTAAACTTGGATCATCCTCCCGTGACGTCCTTAGCTGTACGGTTGACCAAAGAAAAGTTAAATCGGCTGTTTTGTGCTTAAGTCTGCCACCCTGCTAGTCATCATGAAGATTTTCATCTTGCGTGCTAAGTCGCTCTCAACGGGAATCGAGGAAAAGTGTAGTCTACTCCAGCAGTTTCTCATCTGGGACGCCCGAGCAATCCGTTCGAGGGGTGGGTTGCAAGTCCAGACCTAATAGGTTATCAACGCGATGTTATCATAGTCAGATTAACAGAACCGTACGTGGAGACCAACGTCCGCGGCCCTCCGCTAACTTTATGCACCTATACACTTAGAGGCCCGATTCAACCATCCAATCCGTGTGGTCAGACGAGAAGGAAGATGAAAATCTTCATGATGACTAGTCGGTCGGCACAGGCAACAAGTCTACGTCTCATTTCTCCTCCGCAGCACCATACCCGTGCTCTTCCCACAGGAAAACAAGCTTAGAATCTCTAGACGTCGAGTAGCGCTATTCGGGTCGCGAGGTCATCATAAATATCTTCATTTTTTAATGCCCGCGCTCGGAATTGGCCCATCACATGTGACGACGCTATGCCGCCGCAACTCGTTAATAAAGTTCTACTTTTGAAGCCTTGTCGGCCTCGAAGGTAAATACCAGTTCATAAGAGTGCTCGTGTCAAGATGAAGATCTTCATGATGACCTCACGTCTTAATAGCCGTTTCGTCGATCACGGCAACGACTCTTGCGCCAGGCCTAAGTGTAAAGACGTCCCATCAAGCCTCCTTTGATAGTATCTAAACATGAATTAATGGGGCGACGCCATCGGATATTATGCGGGCATCCTTACTGGCTTATCGGGGGGCTGTTGCGTGCCATCCACAGCCTTTCGCGATGGTTTTTCAAACCTATCTTACTTTTTAGTTATTATCAGATCGTCACTTATTCCGGGTATTACGTCACCGGCAGCAACGCTAGGACCGCCAACATCTGGTATATGAAGTCACACATGAACTAAACTACCGGAGGGCAAGCGATTAAGGGTGGGCGGTACTGCCCCAGAGACTTATCTTCGTGACCCTACTAATCATATCCAGCTCCCCGGTAAACTACCACGATGGGACGCGGGTCACTGCCATTTCTTAAGAATGTAATGTGGCATCCGTCTCCATTCCTTCGGAATCCGTGAAGTAGAGTCCGCAGTACTGAGGAGGGATGTATCATTGAACCGAATGGAGAGACGATGGCGTGACGTCATCATAAAGATTTTCATCTTAACCCGCAGAGGCGGAGACCCAGTTCATTAGGACTTCACCGTGCATGGAGTTACGATTCCTCGAATTAACCAGAAGGTGTTCTTTTTCAGTGTATCTGTGTCTAGAGCTCCTAGATTTCGTGTAGGCCTGACATCTCTTTTGAATGATAGGCGAAGGTAACACTTTCCCGCATTGAGTCTTTGACACAGTCCGTCGTAGATCCGCCGGGGGCCGCAACGAGTACGCAGTTGAGGTGCGTGCATCATTCGACGAAAGTTCCGGCAAAATGAACCGAGTCCTCGGCCGCAGGCCAGCAAGTGTTCAAGCGTGTAGACGTTTCGAGCTTATCGCCCGTTAGAGCTCGTCTCCGAGTTACATAGCTTACCTGTCTGTGACAGCCAAGTGGGGGAAGTAAGTTGGACGTGAGTCCGAAACGTCGTGTCGCCACCTCGTAAGAACACAGGGTGAAGTTATTAGCCAAAAAAAGCGGCCCTAGCCTCAGATAATAAGTCATGACCCTGGATCGGTGCCCATGATATACTACTTGTAGGATCACGAGTTTGATATCATACGCCTTTGTCTTCTGATCAGTACGCTCACCTATTCGTGACACCGTATTTAGACTCGAAGTTATTCATCAGCGTCTGCTCATGTGAAATGAAACCCAATGGGTCGCGCAAGAGGTAGTGCGGACCTCGGTACAGTAGGAATGCATTCCCACGTTCCCTTTCGCAAACCCGCGTTCATCACATGACATTCCCAACAAGCATGGTATGATCCATTTGTAACACCGACCACCTGGATGGGACCCCCCTCTTGGATTTGAGTCTAGCGTCCACCCTGCCTCGAGGCGATAGTTGGTCTTCGCTCTTAATGCACTTAAGTAGGTCAAGGTAAAGTACGTAGTATAAATTGCTCCGTCCATCAATTAGCTGCCGATTGCTCTGTTCTTCTGAAACAGTTCGCTATGTAACCGATTGGTCAAACTAGAGATGGGCTGGAGCGGGGCCGCATTCTATGAGCTGCGTGGGGCCCATCGTCTGATGATCATCTGTCAGAGGGTAAGCCATCTAGAAGCCTCAGGTACAGCAAGAGACAGGGGTATAATTTGATACCGCTGGGTAAGTAAACTCTTCTGACATTGATCTATTCCTATAGCGGGGGTCCATCGACGGGACTGTTGCCCTGACCTTGATAGACACTGGCTGAGTGCCCAGGCCAGTATAGGGGTATTCGGTATGGGTCATTATTTTTTACAGCGAATAAAGTACAAACCATCGCGATGCGAGTTCATGTCTGTACTCTCGCAGAGGAGAGCGTCCGGGCTCCTCGGCGTAATCAGCTTACCTAAGGATTGATCAGCCATTCCCCCAGGAAATGTCAGAGTCACGCTTGTTTAGTTCTTCAGGAGTACGAATGAAAGTGCTCTGTGCCCAGATTTATGGGGTATCTCTGAGAGGTACAGGGACCGCAATTGCGTAGCGGAGGAGGATTCGATGGGAACTGTGTTGGGGAACTCACCTAAGTCTCAAAATCGGTTTTGTTGTAGATTGTAGGTTTGAATAGAAGCTCGCGCCTGGCATCAGCTGTTACCAGGCCACGCAGCTTCACTCATGGTCCTGGATACACCCCGTTTTCAGCCGTCGTCAACAATTATCCAGCCAGGCCGTCTCTGCACGATGCGGCACCTGACAGCTCAGGGCCCATCTTTTGTTTACTGTAAAACCTAGGGTCTGAGTGCGACCTGCCGAAAGCGCCTCGTCTAGCCTAGTGAATACGGACAACGGAGCCCGCTGCAGTGGTTACCTTAACTCCTTGGATGAATCCGTGGTCGAGAGTGTAATTAATCTGGCGTGCTATTGACGACGAATTTCACTGTTCATATTGTCTCGCTTTGTTAGCGGGGCACTGCCAAAATGCCTAGTACACCAAGGTGGAGGGTCGTGTCGGAATTGATCAGCCACTAACGCTCCTTACGTTGAACATTGCAGC\"\n",
      "prot = \"KMKIFMMTSR\"\n",
      "look_around(geno,prot)"
     ],
     "language": "python",
     "metadata": {},
     "outputs": [
      {
       "output_type": "stream",
       "stream": "stdout",
       "text": [
        "AAAATGAAGATATTCATGATGACCTCGAGA AAAATGAAAATTTTCATGATGACAAGTAGG AAGATGAAAATTTTCATGATGACGAGTCGG AAGATGAAGATTTTCATGATGACTTCCAGG AAGATGAAGATCTTTATGATGACCTCCCGC AAAATGAAGATCTTCATGATGACTAGCCGA AAGATGAAGATCTTCATGATGACATCAAGA AAGATGAAAATCTTCATGATGACTAGTCGG AAGATGAAGATCTTCATGATGACCTCACGT GCGTGACGTCATCATAAAGATTTTCATCTT TCGCGAGGTCATCATAAATATCTTCATTTT CCTGCTAGTCATCATGAAGATTTTCATCTT CCGGCTAGTCATCATAAAAATCTTCATCTT CCTCGAAGTCATCATAAAGATTTTCATCTT CCGAGATGTCATCATAAATATTTTCATTTT TCGCGATGTCATCATAAATATTTTCATCTT CCTACTGGTCATCATAAATATCTTCATTTT TCTGGAAGTCATCATGAATATTTTCATCTT ACGGCTTGTCATCATAAAGATTTTCATCTT CCGACTCGTCATCATGAATATTTTCATTTT"
       ]
      },
      {
       "metadata": {},
       "output_type": "pyout",
       "prompt_number": 139,
       "text": [
        "['AAAATGAAGATATTCATGATGACCTCGAGA',\n",
        " 'AAAATGAAAATTTTCATGATGACAAGTAGG',\n",
        " 'AAGATGAAAATTTTCATGATGACGAGTCGG',\n",
        " 'AAGATGAAGATTTTCATGATGACTTCCAGG',\n",
        " 'AAGATGAAGATCTTTATGATGACCTCCCGC',\n",
        " 'AAAATGAAGATCTTCATGATGACTAGCCGA',\n",
        " 'AAGATGAAGATCTTCATGATGACATCAAGA',\n",
        " 'AAGATGAAAATCTTCATGATGACTAGTCGG',\n",
        " 'AAGATGAAGATCTTCATGATGACCTCACGT',\n",
        " 'GCGTGACGTCATCATAAAGATTTTCATCTT',\n",
        " 'TCGCGAGGTCATCATAAATATCTTCATTTT',\n",
        " 'CCTGCTAGTCATCATGAAGATTTTCATCTT',\n",
        " 'CCGGCTAGTCATCATAAAAATCTTCATCTT',\n",
        " 'CCTCGAAGTCATCATAAAGATTTTCATCTT',\n",
        " 'CCGAGATGTCATCATAAATATTTTCATTTT',\n",
        " 'TCGCGATGTCATCATAAATATTTTCATCTT',\n",
        " 'CCTACTGGTCATCATAAATATCTTCATTTT',\n",
        " 'TCTGGAAGTCATCATGAATATTTTCATCTT',\n",
        " 'ACGGCTTGTCATCATAAAGATTTTCATCTT',\n",
        " 'CCGACTCGTCATCATGAATATTTTCATTTT']"
       ]
      },
      {
       "output_type": "stream",
       "stream": "stdout",
       "text": [
        "\n"
       ]
      }
     ],
     "prompt_number": 139
    },
    {
     "cell_type": "markdown",
     "metadata": {},
     "source": [
      "## Generating Theoretical Spectrum Problem\n",
      "\n",
      "Generate the theoretical spectrum of a cyclic peptide.\n",
      "     \n",
      "**Input:** An amino acid string Peptide.\n",
      "\n",
      "**Output:** Cyclospectrum(Peptide).\n",
      "\n",
      "**Note:** Cyclospectrum(Peptide) is the collection of all of the masses of its subpeptides, in addition to the mass 0 and the mass of the entire peptide."
     ]
    },
    {
     "cell_type": "code",
     "collapsed": false,
     "input": [
      "def subpeptides(pep):\n",
      "    p = list(pep)\n",
      "    n = len(p)\n",
      "    output = [pep]\n",
      "    p_extended = p + p[:n-2]\n",
      "    for i in range(n):\n",
      "        for j in range(n-1):\n",
      "            output += [\"\".join(p_extended[i:i+j+1])]\n",
      "    return output    "
     ],
     "language": "python",
     "metadata": {},
     "outputs": [],
     "prompt_number": 208
    },
    {
     "cell_type": "code",
     "collapsed": false,
     "input": [
      "import urllib2\n",
      "url = \"https://stepic.org/media/attachments/lessons/98/integer_mass_table.txt\"\n",
      "table_file= urllib2.urlopen(url)\n",
      "integer_mass_table = {}\n",
      "for line in table_file:\n",
      "    l = line.split()\n",
      "    integer_mass_table[l[0]] = int(l[1])"
     ],
     "language": "python",
     "metadata": {},
     "outputs": [],
     "prompt_number": 209
    },
    {
     "cell_type": "code",
     "collapsed": false,
     "input": [
      "def mass_subpeptide(pep):\n",
      "    count = 0\n",
      "    for x in pep:\n",
      "        count += integer_mass_table[x]\n",
      "    return count\n",
      "\n",
      "def cyclospectrum(pep):\n",
      "    output = [0]\n",
      "    subs = subpeptides(pep)\n",
      "    for s in subs:\n",
      "        output += [mass_subpeptide(s)]\n",
      "    return sort(output)"
     ],
     "language": "python",
     "metadata": {},
     "outputs": [],
     "prompt_number": 210
    },
    {
     "cell_type": "code",
     "collapsed": false,
     "input": [
      "for w in cyclospectrum(\"RRNWLVERNEYIT\"):\n",
      "    print w, "
     ],
     "language": "python",
     "metadata": {},
     "outputs": [
      {
       "output_type": "stream",
       "stream": "stdout",
       "text": [
        "0 99 101 113 113 114 114 129 129 156 156 156 163 186 212 214 228 243 257 270 270 276 285 292 299 300 312 341 370 377 384 398 399 399 405 406 413 413 426 456 497 498 506 512 519 526 527 527 528 533 562 569 611 612 620 627 640 641 662 668 675 683 689 691 713 725 740 776 776 790 797 797 797 803 804 818 824 826 826 903 903 905 911 925 926 932 932 932 939 953 953 989 1004 1016 1038 1040 1046 1054 1061 1067 1088 1089 1102 1109 1117 1118 1160 1167 1196 1201 1202 1202 1203 1210 1217 1223 1231 1232 1273 1303 1316 1316 1323 1324 1330 1330 1331 1345 1352 1359 1388 1417 1429 1430 1437 1444 1453 1459 1459 1472 1486 1501 1515 1517 1543 1566 1573 1573 1573 1600 1600 1615 1615 1616 1616 1628 1630 1729\n"
       ]
      }
     ],
     "prompt_number": 213
    },
    {
     "cell_type": "markdown",
     "metadata": {},
     "source": [
      "## Counting Peptides with Given Mass Problem\n",
      "\n",
      "Compute the number of peptides of given total mass.\n",
      "\n",
      "**Input:** An integer m.\n",
      "     \n",
      "**Output:** The number of linear peptides having integer mass m."
     ]
    },
    {
     "cell_type": "code",
     "collapsed": false,
     "input": [
      "aminoacid_masses = sort(list(set(integer_mass_table.values())))"
     ],
     "language": "python",
     "metadata": {},
     "outputs": [],
     "prompt_number": 291
    },
    {
     "cell_type": "code",
     "collapsed": false,
     "input": [
      "def peptides(n, d):\n",
      "    for m in aminoacid_masses:\n",
      "        if n-m in d:\n",
      "            d[n] = d.get(n,0)+d[n-m]\n",
      "    return d"
     ],
     "language": "python",
     "metadata": {},
     "outputs": [],
     "prompt_number": 356
    },
    {
     "cell_type": "code",
     "collapsed": false,
     "input": [
      "def pep_counter(M):\n",
      "    dicc = {0:1}\n",
      "    mn = min(aminoacid_masses)\n",
      "    for i in range(M-mn+1):\n",
      "        j = i+mn\n",
      "        peptides(j,dicc)\n",
      "    return dicc"
     ],
     "language": "python",
     "metadata": {},
     "outputs": [],
     "prompt_number": 357
    },
    {
     "cell_type": "code",
     "collapsed": false,
     "input": [
      "dicc[1351]"
     ],
     "language": "python",
     "metadata": {},
     "outputs": [
      {
       "metadata": {},
       "output_type": "pyout",
       "prompt_number": 358,
       "text": [
        "115361010962811"
       ]
      }
     ],
     "prompt_number": 358
    },
    {
     "cell_type": "code",
     "collapsed": false,
     "input": [
      "pep_counter(1600)[1600]"
     ],
     "language": "python",
     "metadata": {},
     "outputs": [
      {
       "metadata": {},
       "output_type": "pyout",
       "prompt_number": 360,
       "text": [
        "109000330554114810"
       ]
      }
     ],
     "prompt_number": 360
    },
    {
     "cell_type": "markdown",
     "metadata": {},
     "source": [
      "## Extra exercise"
     ]
    },
    {
     "cell_type": "code",
     "collapsed": false,
     "input": [
      "l= []\n",
      "d = pep_counter(3000)\n",
      "for i in range(3001):\n",
      "    if i in d:\n",
      "        l += [d[i]]\n",
      "    else: \n",
      "        l += [0]"
     ],
     "language": "python",
     "metadata": {},
     "outputs": [],
     "prompt_number": 361
    },
    {
     "cell_type": "code",
     "collapsed": false,
     "input": [
      "import matplotlib.pyplot as ppl\n",
      "fig = ppl.figure(figsize=(15,10), dpi=100)\n",
      "ax = fig.add_subplot(1,1,1)\n",
      "line, = ax.plot(l, color='red', lw=1)\n",
      "ax.set_yscale('log')\n",
      "show()"
     ],
     "language": "python",
     "metadata": {},
     "outputs": [
      {
       "metadata": {},
       "output_type": "display_data",
       "png": "[encoded data removed]",
       "text": [
        "<matplotlib.figure.Figure at 0x100743810>"
       ]
      }
     ],
     "prompt_number": 362
    },
    {
     "cell_type": "markdown",
     "metadata": {},
     "source": [
      "This figure suggests that for large $m$, the number of peptides with given integer mass $m$ can be approximated as $k \u00b7 C^m$, where $k$ and $C$ are constants. Find (estimate) $C\\pm 0.002$."
     ]
    },
    {
     "cell_type": "code",
     "collapsed": false,
     "input": [
      "from __future__ import division"
     ],
     "language": "python",
     "metadata": {},
     "outputs": [],
     "prompt_number": 325
    },
    {
     "cell_type": "code",
     "collapsed": false,
     "input": [
      "d = pep_counter(3000)"
     ],
     "language": "python",
     "metadata": {},
     "outputs": [],
     "prompt_number": 334
    },
    {
     "cell_type": "markdown",
     "metadata": {},
     "source": [
      "Observe that if $y(n) = k C^n$ then $k = \\frac{y(n)}{C^n}$. Thus, for $m > n$, $C^{m-n} = \\frac{y(m)}{y(n)}$. \n",
      "\n",
      "Let's take $m = n+1$ for $n$ relatively large and calculate $\\frac{y(m)}{y(n)}$:"
     ]
    },
    {
     "cell_type": "code",
     "collapsed": false,
     "input": [
      "for i in range(100):\n",
      "    print d[3000-i]/d[3000-(i+1)],"
     ],
     "language": "python",
     "metadata": {},
     "outputs": [
      {
       "output_type": "stream",
       "stream": "stdout",
       "text": [
        "1.02777962601 1.02779331201 1.02779428496 1.02778231924 1.02775955862 1.02773032568 1.02770013234 1.02767472373 1.02765903188 1.02765601258 1.02766645462 1.02768829251 1.02771759738 1.02774867844 1.0277757404 1.02779351957 1.02779858992 1.02778992341 1.02776902019 1.02773987932 1.02770791302 1.02767928759 1.02765943249 1.02765220082 1.02765908721 1.02767878304 1.0277077306 1.02774033268 1.02777053075 1.02779243832 1.02780189415 1.02779699297 1.0277785381 1.02775005315 1.02771677939 1.02768518924 1.02766116829 1.02764947875 1.02765233288 1.02766931969 1.02769729755 1.02773094467 1.02776397124 1.02778997316 1.0278040373 1.02780334219 1.02778793293 1.02776070459 1.02772666455 1.02769243284 1.02766433638 1.0276479945 1.02764638532 1.0276600869 1.02768644992 1.02772060025 1.02775606151 1.02778604682 1.02780486561 1.02780878432 1.02779700796 1.02777167171 1.02773747264 1.02770099891 1.02766901421 1.02764788546 1.02764144249 1.0276512788 1.02767536519 1.027709408 1.02774683063 1.02778060095 1.02780423749 1.0278131335 1.02780555232 1.02778277459 1.02774907702 1.02771084436 1.02767525373 1.02764927738 1.02763770042 1.02764309867 1.02766424412 1.02769749992 1.02773633972 1.02777359773 1.02780202929 1.02781620633 1.02781334576 1.02779381565 1.0277613205 1.0277219015 1.02768307655 1.02765228316 1.02763534635 1.02763575891 1.02765330615 1.02768503318 1.02772468255 1.02776502261\n"
       ]
      }
     ],
     "prompt_number": 344
    },
    {
     "cell_type": "code",
     "collapsed": false,
     "input": [
      "peptido = [186,128,113]"
     ],
     "language": "python",
     "metadata": {},
     "outputs": [],
     "prompt_number": 363
    },
    {
     "cell_type": "markdown",
     "metadata": {},
     "source": [
      "## Implement CyclopeptideSequencing\n",
      "\n",
      "    CYCLOPEPTIDESEQUENCING(Spectrum)\n",
      "        List \u2190 {0-peptide}\n",
      "        while List is nonempty\n",
      "            List \u2190 Expand(List)\n",
      "            for each peptide Peptide in List\n",
      "                if Cyclospectrum(Peptide) = Spectrum\n",
      "                    output Peptide\n",
      "                    remove Peptide from List\n",
      "                else if Peptide is not consistent with Spectrum\n",
      "                    remove Peptide from List\n",
      " \n",
      "**Note 1:** Expand(List) is a new collection containing all possible extensions of peptides in List by a single amino acid mass.\n",
      "\n",
      "**Note 2:** A linear peptide is consistent with _Spectrum_ if every mass in its theoretical spectrum is contained in _Spectrum_."
     ]
    },
    {
     "cell_type": "code",
     "collapsed": false,
     "input": [
      "def expand_peptides(p):\n",
      "    output = []\n",
      "    for m in aminoacid_masses:\n",
      "        output += [p +[m]]\n",
      "    return output"
     ],
     "language": "python",
     "metadata": {},
     "outputs": [],
     "prompt_number": 364
    },
    {
     "cell_type": "code",
     "collapsed": false,
     "input": [
      "def subpeptides_n(pep):\n",
      "    p = list(pep)\n",
      "    n = len(p)\n",
      "    output = [pep]\n",
      "    p_extended = p + p[:n-2]\n",
      "    for i in range(n):\n",
      "        for j in range(n-1):\n",
      "            output += [p_extended[i:i+j+1]]\n",
      "    return output  \n",
      "\n",
      "def lineal_subpeptides(pep):\n",
      "    output = []\n",
      "    n = len(pep)\n",
      "    for i in range(n):\n",
      "        for j in range(n-i):\n",
      "            output += [pep[i:i+j+1]]\n",
      "    return output"
     ],
     "language": "python",
     "metadata": {},
     "outputs": [],
     "prompt_number": 367
    },
    {
     "cell_type": "code",
     "collapsed": false,
     "input": [
      "def spectrum(function_spectrum, pep):\n",
      "    subs = function_spectrum(pep)\n",
      "    return list(sort([sum(x) for x in subs] + [0]))"
     ],
     "language": "python",
     "metadata": {},
     "outputs": [],
     "prompt_number": 615
    },
    {
     "cell_type": "code",
     "collapsed": false,
     "input": [
      "def compatible_specs(can, spec):\n",
      "    l = list(spec)\n",
      "    s = spectrum(lineal_subpeptides, can)\n",
      "    for x in s:\n",
      "        if x in l:\n",
      "            l.remove(x)\n",
      "        else:\n",
      "            return False\n",
      "    return True"
     ],
     "language": "python",
     "metadata": {},
     "outputs": [],
     "prompt_number": 616
    },
    {
     "cell_type": "code",
     "collapsed": false,
     "input": [
      "def expand_list_pep(l):\n",
      "    output = []\n",
      "    for x in l:\n",
      "        output += expand_peptides(x)\n",
      "    return output"
     ],
     "language": "python",
     "metadata": {},
     "outputs": [],
     "prompt_number": 617
    },
    {
     "cell_type": "code",
     "collapsed": false,
     "input": [
      "def secuencia(espec):\n",
      "    candidatos = [[]]\n",
      "    salida = []\n",
      "    while candidatos:\n",
      "        candidatos = expand_list_pep(candidatos)\n",
      "        salida += [c for c in candidatos if spectrum(subpeptides_n, c) == espec]\n",
      "        candidatos = [c for c in candidatos if compatible_specs(c,espec)]\n",
      "    return salida"
     ],
     "language": "python",
     "metadata": {},
     "outputs": [],
     "prompt_number": 618
    },
    {
     "cell_type": "code",
     "collapsed": false,
     "input": [
      "espectro = [0, 113, 128, 186, 241, 299, 314, 427]"
     ],
     "language": "python",
     "metadata": {},
     "outputs": [],
     "prompt_number": 619
    },
    {
     "cell_type": "code",
     "collapsed": false,
     "input": [
      "secuencia(espectro)"
     ],
     "language": "python",
     "metadata": {},
     "outputs": [
      {
       "metadata": {},
       "output_type": "pyout",
       "prompt_number": 620,
       "text": [
        "[[113, 128, 186],\n",
        " [113, 186, 128],\n",
        " [128, 113, 186],\n",
        " [128, 186, 113],\n",
        " [186, 113, 128],\n",
        " [186, 128, 113]]"
       ]
      }
     ],
     "prompt_number": 620
    },
    {
     "cell_type": "code",
     "collapsed": false,
     "input": [
      "espe = \"0 71 97 99 113 114 128 129 131 147 163 168 202 213 227 242 244 246 257 291 294 299 315 326 343 356 360 365 370 414 420 422 446 455 457 462 473 484 493 528 533 545 551 570 583 590 602 609 622 641 647 659 664 699 708 719 730 735 737 746 770 772 778 822 827 832 836 849 866 877 893 898 901 935 946 948 950 965 979 990 1024 1029 1045 1061 1063 1064 1078 1079 1093 1095 1121 1192\".split() "
     ],
     "language": "python",
     "metadata": {},
     "outputs": [],
     "prompt_number": 603
    },
    {
     "cell_type": "code",
     "collapsed": false,
     "input": [
      "espe = map(int,espe)"
     ],
     "language": "python",
     "metadata": {},
     "outputs": [],
     "prompt_number": 608
    },
    {
     "cell_type": "code",
     "collapsed": false,
     "input": [
      "resultados = secuencia(espe)"
     ],
     "language": "python",
     "metadata": {},
     "outputs": [],
     "prompt_number": 610
    },
    {
     "cell_type": "code",
     "collapsed": false,
     "input": [
      "for r in resultados:\n",
      "    print \"-\".join(map(str,r))"
     ],
     "language": "python",
     "metadata": {},
     "outputs": [
      {
       "output_type": "stream",
       "stream": "stdout",
       "text": [
        "71-97-147-99-114-113-129-128-163-131 71-131-163-128-129-113-114-99-147-97 97-71-131-163-128-129-113-114-99-147 97-147-99-114-113-129-128-163-131-71 99-114-113-129-128-163-131-71-97-147 99-147-97-71-131-163-128-129-113-114 113-114-99-147-97-71-131-163-128-129 113-129-128-163-131-71-97-147-99-114 114-99-147-97-71-131-163-128-129-113 114-113-129-128-163-131-71-97-147-99 128-129-113-114-99-147-97-71-131-163 128-163-131-71-97-147-99-114-113-129 129-113-114-99-147-97-71-131-163-128 129-128-163-131-71-97-147-99-114-113 131-71-97-147-99-114-113-129-128-163 131-163-128-129-113-114-99-147-97-71 147-97-71-131-163-128-129-113-114-99 147-99-114-113-129-128-163-131-71-97 163-128-129-113-114-99-147-97-71-131 163-131-71-97-147-99-114-113-129-128\n"
       ]
      }
     ],
     "prompt_number": 611
    }
   ],
   "metadata": {}
  }
 ]
}