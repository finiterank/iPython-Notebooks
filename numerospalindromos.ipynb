{
 "metadata": {
  "name": ""
 },
 "nbformat": 3,
 "nbformat_minor": 0,
 "worksheets": [
  {
   "cells": [
    {
     "cell_type": "markdown",
     "metadata": {},
     "source": [
      "# Capic\u00faas\n",
      "\n",
      "[C\u00e9dric Villani](http://cedricvillani.org/) tiene una secci\u00f3n en _Le Monde_ donde propone acertijos matem\u00e1ticos. \n",
      "En [el primero](http://www.lemonde.fr/sciences/video/2013/03/21/les-defis-mathematiques-du-monde-episode-1-les-palindromes_1852289_1650684.html), \n",
      "introduce los capic\u00faas (n\u00fameros pal\u00edndromos) y luego hace dos preguntas:\n",
      "\n",
      "1. \u00bfCu\u00e1ntos capic\u00faas de 351 d\u00edgitos hay?\n",
      "2. \u00bfCu\u00e1l es la diferencia m\u00ednima entre dos capic\u00faas de longitud 351?\n",
      "\n",
      "Intentemos adivinar las respuestas con ayuda de Python."
     ]
    },
    {
     "cell_type": "code",
     "collapsed": true,
     "input": [
      "import itertools\n",
      "from __future__ import division "
     ],
     "language": "python",
     "metadata": {},
     "outputs": [],
     "prompt_number": 171
    },
    {
     "cell_type": "markdown",
     "metadata": {},
     "source": [
      "## Lista de capic\u00faas de longitud m\n",
      "\n",
      "Una primera forma burda de generar la lista de capic\u00faas de longitud $m$ \n",
      "es tomar la lista de todos los n\u00fameros de longitud $m$ (o sea aquellos que est\u00e1n \n",
      "entre $10^{m-1}$ y $10^{m}-1$) y filtrar los pal\u00edndromos. Este proceso, claro, \n",
      "es dispendioso y toma demasiado tiempo incluso para valores bajos de $m$. \n",
      "\n",
      "La estrategia complementaria es construir los capic\u00faas usando manipulaci\u00f3n de\n",
      "cadenas. Para longitudes pares, basta generar cualquier n\u00famero de la mitad de la longitud deseada y luego adjuntarlo revertido. Con los impares es similar. Eso es lo que hago a continuaci\u00f3n: "
     ]
    },
    {
     "cell_type": "code",
     "collapsed": false,
     "input": [
      "def capicuas(m):\n",
      "    n = int(m/2) + m%2\n",
      "    p = itertools.product(range(10), repeat = n) # \"producto cartesiano\" de la lista range(10)\n",
      "    lista = [''.join(map(str,x)) for x in p]\n",
      "    if m%2 == 0:\n",
      "        t = [x+x[::-1] for x in lista] # Python-locura sint\u00e1ctica: \"Javier\"[::-1] = \"reivaJ\"\n",
      "    else:\n",
      "        t = [x[:-1]+x[::-1] for x in lista]\n",
      "    capicuas = [int(x) for x in t if x[0] != '0'] \n",
      "    if m==1: capicuas = [0] + capicuas # Para que entre los pal\u00edndromos de longitud 1 incluya el 0.\n",
      "    return sorted(capicuas) # El sorted sobra, creo, pero mejor me curo en salud."
     ],
     "language": "python",
     "metadata": {},
     "outputs": [],
     "prompt_number": 230
    },
    {
     "cell_type": "markdown",
     "metadata": {},
     "source": [
      "Una prueba: "
     ]
    },
    {
     "cell_type": "code",
     "collapsed": false,
     "input": [
      "print capicuas(1)+ capicuas(2) + capicuas(3) + capicuas(4)"
     ],
     "language": "python",
     "metadata": {},
     "outputs": [
      {
       "output_type": "stream",
       "stream": "stdout",
       "text": [
        "[0, 1, 2, 3, 4, 5, 6, 7, 8, 9, 11, 22, 33, 44, 55, 66, 77, 88, 99, 101, 111, 121, 131, 141, 151, 161, 171, 181, 191, 202, 212, 222, 232, 242, 252, 262, 272, 282, 292, 303, 313, 323, 333, 343, 353, 363, 373, 383, 393, 404, 414, 424, 434, 444, 454, 464, 474, 484, 494, 505, 515, 525, 535, 545, 555, 565, 575, 585, 595, 606, 616, 626, 636, 646, 656, 666, 676, 686, 696, 707, 717, 727, 737, 747, 757, 767, 777, 787, 797, 808, 818, 828, 838, 848, 858, 868, 878, 888, 898, 909, 919, 929, 939, 949, 959, 969, 979, 989, 999, 1001, 1111, 1221, 1331, 1441, 1551, 1661, 1771, 1881, 1991, 2002, 2112, 2222, 2332, 2442, 2552, 2662, 2772, 2882, 2992, 3003, 3113, 3223, 3333, 3443, 3553, 3663, 3773, 3883, 3993, 4004, 4114, 4224, 4334, 4444, 4554, 4664, 4774, 4884, 4994, 5005, 5115, 5225, 5335, 5445, 5555, 5665, 5775, 5885, 5995, 6006, 6116, 6226, 6336, 6446, 6556, 6666, 6776, 6886, 6996, 7007, 7117, 7227, 7337, 7447, 7557, 7667, 7777, 7887, 7997, 8008, 8118, 8228, 8338, 8448, 8558, 8668, 8778, 8888, 8998, 9009, 9119, 9229, 9339, 9449, 9559, 9669, 9779, 9889, 9999]"
       ]
      }
     ],
     "prompt_number": 229
    },
    {
     "cell_type": "markdown",
     "metadata": {},
     "source": [
      "## \u00bfCu\u00e1ntos capic\u00faas de longitud m hay?\n",
      "\n",
      "Un c\u00e1lculo combinatorio sencillo ser\u00eda suficiente para obtener la respuesta, \n",
      "pero supongamos que no queremos pensar demasiado. Miremos, usando nuestra funci\u00f3n, \n",
      "cu\u00e1ntos capic\u00faas de longitud m hay para m entre 1 y 11 e intentemos \n",
      "conjeturar la respuesta general."
     ]
    },
    {
     "cell_type": "code",
     "collapsed": false,
     "input": [
      "[len(capicuas(m+1)) for m in range(11)]"
     ],
     "language": "python",
     "metadata": {},
     "outputs": [
      {
       "output_type": "pyout",
       "prompt_number": 180,
       "text": [
        "[10, 9, 90, 90, 900, 900, 9000, 9000, 90000, 90000, 900000]"
       ]
      }
     ],
     "prompt_number": 180
    },
    {
     "cell_type": "markdown",
     "metadata": {},
     "source": [
      "Es decir, hay 10 capic\u00faas de longitud 1, 9 de longitud 2, 90 de longitud 3, 90 de longitud 4... \n",
      "\n",
      "As\u00ed, pareciera que el n\u00famero de capic\u00faas de longitud $m$ es $9\\times 10^n$ \n",
      "para alg\u00fan $n$ que tal vez depende de $m$. \u00bfCu\u00e1l es el $n$? \n",
      "\n",
      "Para $m=2$ tenemos $n=0.$ Para $m=3$ tenemos $n=1.$ Para $m=4$ tenemos $n=1$ otra vez. Para $m=5$ tenemos $n=2,$ y as\u00ed sucesivamente. \n",
      "\n",
      "Pareciera que el valor de $n$ depende de si $m$ es par o impar: \n",
      "\n",
      "* Cuando $m$ es par, $n=(m/2)-1.$ \n",
      "* Cuando $m$ es impar, $n=(m-1)/2.$ \n",
      "\n",
      "Si estamos en lo correcto, el n\u00famero de capic\u00faas de longitud 12 ser\u00eda $9\\times 10^5 = 900000:$"
     ]
    },
    {
     "cell_type": "code",
     "collapsed": false,
     "input": [
      "len(capicuas(12))"
     ],
     "language": "python",
     "metadata": {},
     "outputs": [
      {
       "output_type": "pyout",
       "prompt_number": 181,
       "text": [
        "900000"
       ]
      }
     ],
     "prompt_number": 181
    },
    {
     "cell_type": "markdown",
     "metadata": {},
     "source": [
      "As\u00ed, nuestra conjetura para el n\u00famero de capic\u00faas de longitud 351 es $9\\times 10^{(351-1)/2} = 10^{175}.$\n",
      "\n",
      "El ejercicio obligatorio subsiguiente, por supuesto, es hacer el conteo expl\u00edcito. Villani lo hace \n",
      "en [su video de respuesta](http://www.lemonde.fr/sciences/video/2013/03/29/les-defis-mathematiques-du-monde-reponse-de-l-episode-1-les-palindromes_3150508_1650684.html). "
     ]
    },
    {
     "cell_type": "markdown",
     "metadata": {},
     "source": [
      "## \u00bfCu\u00e1l es la diferencia m\u00ednima entre dos capic\u00faas de longitud m?\n",
      "\n",
      "Definamos una funci\u00f3n que calcule las diferencias entre elementos consecutivos de una lista:"
     ]
    },
    {
     "cell_type": "code",
     "collapsed": false,
     "input": [
      "def diferencias(l):\n",
      "    return [l[i+1]-l[i] for i in range(len(l)-1)]"
     ],
     "language": "python",
     "metadata": {},
     "outputs": [],
     "prompt_number": 164
    },
    {
     "cell_type": "markdown",
     "metadata": {},
     "source": [
      "Con esta funci\u00f3n podemos hacer varios experimentos. \n",
      "\n",
      "Por ejemplo, podemos calcular las posibles diferencias entre capic\u00faas consecutivos de longitud $m=11$ en \n",
      "la lista ordenada que produce nuestra funci\u00f3n generadora. "
     ]
    },
    {
     "cell_type": "code",
     "collapsed": false,
     "input": [
      "set(diferencias(capicuas(11)))"
     ],
     "language": "python",
     "metadata": {},
     "outputs": [
      {
       "output_type": "pyout",
       "prompt_number": 182,
       "text": [
        "set([100000L, 11L, 1100L, 110L, 110000L, 11000L])"
       ]
      }
     ],
     "prompt_number": 182
    },
    {
     "cell_type": "markdown",
     "metadata": {},
     "source": [
      "En este caso la m\u00ednima diferencia entre dos capic\u00faas consecutivos de longitud $m=11$ es \n",
      "precisamente 11. \n",
      "\n",
      "Calculemos la m\u00ednima diferencia para $m=1, 2, \\ldots, 12:$"
     ]
    },
    {
     "cell_type": "code",
     "collapsed": false,
     "input": [
      "[min(diferencias(capicuas(i+1))) for i in range(12)] "
     ],
     "language": "python",
     "metadata": {},
     "outputs": [
      {
       "output_type": "pyout",
       "prompt_number": 166,
       "text": [
        "[1, 11, 10, 11, 11, 11, 11, 11, 11, 11, 11L, 11L]"
       ]
      }
     ],
     "prompt_number": 166
    },
    {
     "cell_type": "markdown",
     "metadata": {},
     "source": [
      "La regularidad es clara. Nuestra conjetura aqu\u00ed ser\u00eda que la diferencia m\u00ednima entre\n",
      "dos capic\u00faas de longitud $m$ es (casi) siempre igual a 11. Las \u00fanicas excepciones son $m=1$ y $m=3$. \n",
      "\n",
      "\u00bfY cu\u00e1les son las parejas de capic\u00faas que producen la diferencia m\u00ednima? Escribamos una \n",
      "funci\u00f3n que las lista:"
     ]
    },
    {
     "cell_type": "code",
     "collapsed": false,
     "input": [
      "def minimas_diferencias(n):\n",
      "    print \"Capic\u00faas de longitud \", n\n",
      "    l = capicuas(n)\n",
      "    m = min(diferencias(l))\n",
      "    print \"M\u00ednima diferencia: \", m\n",
      "    print \"Entre:\"\n",
      "    b = l[0]\n",
      "    for i in l[1:]:\n",
      "        if i-b == m: \n",
      "            print b, i\n",
      "        b = i"
     ],
     "language": "python",
     "metadata": {},
     "outputs": [],
     "prompt_number": 224
    },
    {
     "cell_type": "markdown",
     "metadata": {},
     "source": [
      "Por probar, empecemos con el caso sencillo $m=2$:"
     ]
    },
    {
     "cell_type": "code",
     "collapsed": false,
     "input": [
      "minimas_diferencias(2)"
     ],
     "language": "python",
     "metadata": {},
     "outputs": [
      {
       "output_type": "stream",
       "stream": "stdout",
       "text": [
        "Capic\u00faas de longitud  2\n",
        "M\u00ednima diferencia:  11\n",
        "Entre:\n",
        "11 22\n",
        "22 33\n",
        "33 44\n",
        "44 55\n",
        "55 66\n",
        "66 77\n",
        "77 88\n",
        "88 99"
       ]
      }
     ],
     "prompt_number": 227
    },
    {
     "cell_type": "markdown",
     "metadata": {},
     "source": [
      "Ahora, por curiosidad, miremos la aberraci\u00f3n $m=3$: "
     ]
    },
    {
     "cell_type": "code",
     "collapsed": false,
     "input": [
      "minimas_diferencias(3)"
     ],
     "language": "python",
     "metadata": {},
     "outputs": [
      {
       "output_type": "stream",
       "stream": "stdout",
       "text": [
        "Capic\u00faas de longitud  3\n",
        "M\u00ednima diferencia:  10\n",
        "Entre:\n",
        "101 111\n",
        "111 121\n",
        "121 131\n",
        "131 141\n",
        "141 151\n",
        "151 161\n",
        "161 171\n",
        "171 181\n",
        "181 191\n",
        "202 212\n",
        "212 222\n",
        "222 232\n",
        "232 242\n",
        "242 252\n",
        "252 262\n",
        "262 272\n",
        "272 282\n",
        "282 292\n",
        "303 313\n",
        "313 323\n",
        "323 333\n",
        "333 343\n",
        "343 353\n",
        "353 363\n",
        "363 373\n",
        "373 383\n",
        "383 393\n",
        "404 414\n",
        "414 424\n",
        "424 434\n",
        "434 444\n",
        "444 454\n",
        "454 464\n",
        "464 474\n",
        "474 484\n",
        "484 494\n",
        "505 515\n",
        "515 525\n",
        "525 535\n",
        "535 545\n",
        "545 555\n",
        "555 565\n",
        "565 575\n",
        "575 585\n",
        "585 595\n",
        "606 616\n",
        "616 626\n",
        "626 636\n",
        "636 646\n",
        "646 656\n",
        "656 666\n",
        "666 676\n",
        "676 686\n",
        "686 696\n",
        "707 717\n",
        "717 727\n",
        "727 737\n",
        "737 747\n",
        "747 757\n",
        "757 767\n",
        "767 777\n",
        "777 787\n",
        "787 797\n",
        "808 818\n",
        "818 828\n",
        "828 838\n",
        "838 848\n",
        "848 858\n",
        "858 868\n",
        "868 878\n",
        "878 888\n",
        "888 898\n",
        "909 919\n",
        "919 929\n",
        "929 939\n",
        "939 949\n",
        "949 959\n",
        "959 969\n",
        "969 979\n",
        "979 989\n",
        "989 999"
       ]
      }
     ],
     "prompt_number": 220
    },
    {
     "cell_type": "markdown",
     "metadata": {},
     "source": [
      "\u00bfQu\u00e9 pasa de ah\u00ed en adelante? Calculemos desde $m=4$ hasta $m=12:$"
     ]
    },
    {
     "cell_type": "code",
     "collapsed": false,
     "input": [
      "for i in range(9):\n",
      "    minimas_diferencias(4+i)"
     ],
     "language": "python",
     "metadata": {},
     "outputs": [
      {
       "output_type": "stream",
       "stream": "stdout",
       "text": [
        "Capic\u00faas de longitud  4\n",
        "M\u00ednima diferencia:  11\n",
        "Entre:\n",
        "1991 2002\n",
        "2992 3003\n",
        "3993 4004\n",
        "4994 5005\n",
        "5995 6006\n",
        "6996 7007\n",
        "7997 8008\n",
        "8998 9009\n",
        "Capic\u00faas de longitud  5\n",
        "M\u00ednima diferencia:  11\n",
        "Entre:\n",
        "19991 20002\n",
        "29992 30003\n",
        "39993 40004\n",
        "49994 50005\n",
        "59995 60006\n",
        "69996 70007\n",
        "79997 80008\n",
        "89998 90009\n",
        "Capic\u00faas de longitud  6\n",
        "M\u00ednima diferencia:  11\n",
        "Entre:\n",
        "199991 200002\n",
        "299992 300003\n",
        "399993 400004\n",
        "499994 500005\n",
        "599995 600006\n",
        "699996 700007\n",
        "799997 800008\n",
        "899998 900009\n",
        "Capic\u00faas de longitud  7\n",
        "M\u00ednima diferencia:  11\n",
        "Entre:\n",
        "1999991 2000002\n",
        "2999992 3000003\n",
        "3999993 4000004\n",
        "4999994 5000005\n",
        "5999995 6000006\n",
        "6999996 7000007\n",
        "7999997 8000008\n",
        "8999998 9000009\n",
        "Capic\u00faas de longitud  8\n",
        "M\u00ednima diferencia: "
       ]
      },
      {
       "output_type": "stream",
       "stream": "stdout",
       "text": [
        " 11\n",
        "Entre:\n",
        "19999991 20000002\n",
        "29999992 30000003\n",
        "39999993 40000004\n",
        "49999994 50000005\n",
        "59999995 60000006\n",
        "69999996 70000007\n",
        "79999997 80000008\n",
        "89999998 90000009\n",
        "Capic\u00faas de longitud  9\n",
        "M\u00ednima diferencia: "
       ]
      },
      {
       "output_type": "stream",
       "stream": "stdout",
       "text": [
        " 11\n",
        "Entre:\n",
        "199999991 200000002\n",
        "299999992 300000003\n",
        "399999993 400000004\n",
        "499999994 500000005\n",
        "599999995 600000006\n",
        "699999996 700000007\n",
        "799999997 800000008\n",
        "899999998 900000009\n",
        "Capic\u00faas de longitud  10\n",
        "M\u00ednima diferencia: "
       ]
      },
      {
       "output_type": "stream",
       "stream": "stdout",
       "text": [
        " 11\n",
        "Entre:\n",
        "1999999991 2000000002\n",
        "2999999992 3000000003\n",
        "3999999993 4000000004\n",
        "4999999994 5000000005\n",
        "5999999995 6000000006\n",
        "6999999996 7000000007\n",
        "7999999997 8000000008\n",
        "8999999998 9000000009\n",
        "Capic\u00faas de longitud  11\n",
        "M\u00ednima diferencia: "
       ]
      },
      {
       "output_type": "stream",
       "stream": "stdout",
       "text": [
        " 11\n",
        "Entre:\n",
        "19999999991 20000000002\n",
        "29999999992 30000000003\n",
        "39999999993"
       ]
      },
      {
       "output_type": "stream",
       "stream": "stdout",
       "text": [
        " 40000000004\n",
        "49999999994 50000000005\n",
        "59999999995 60000000006\n",
        "69999999996"
       ]
      },
      {
       "output_type": "stream",
       "stream": "stdout",
       "text": [
        " 70000000007\n",
        "79999999997 80000000008\n",
        "89999999998 90000000009\n",
        "Capic\u00faas de longitud "
       ]
      },
      {
       "output_type": "stream",
       "stream": "stdout",
       "text": [
        " 12\n",
        "M\u00ednima diferencia: "
       ]
      },
      {
       "output_type": "stream",
       "stream": "stdout",
       "text": [
        " 11\n",
        "Entre:\n",
        "199999999991 200000000002\n",
        "299999999992 300000000003\n",
        "399999999993"
       ]
      },
      {
       "output_type": "stream",
       "stream": "stdout",
       "text": [
        " 400000000004\n",
        "499999999994 500000000005\n",
        "599999999995 600000000006\n",
        "699999999996"
       ]
      },
      {
       "output_type": "stream",
       "stream": "stdout",
       "text": [
        " 700000000007\n",
        "799999999997 800000000008\n",
        "899999999998 900000000009"
       ]
      }
     ],
     "prompt_number": 221
    },
    {
     "cell_type": "markdown",
     "metadata": {},
     "source": [
      "\u00bfNotan el patr\u00f3n? La diferencia m\u00ednima siempre se consigue entre las parejas de la forma A9999\u00b7\u00b7\u00b79999A y B0000\u00b7\u00b7\u00b70000B \n",
      "donde A es un d\u00edgito entre 1 y 8 y B=A+1.\n",
      "\n",
      "Supongo que el ejercicio siguiente ser\u00eda demostrar que no hay dos capic\u00faas de longitud $m\\geq 4$ cuya diferencia sea menos que 11."
     ]
    },
    {
     "cell_type": "markdown",
     "metadata": {},
     "source": [
      "## \u00bfCapic\u00faas simult\u00e1neamente en varias bases?\n",
      "\n",
      "Con lo ya constru\u00eddo es f\u00e1cil seguir jugando. Por ejemplo, podemos buscar los capic\u00faas \n",
      "con longitud menor a 12 tales que en representaci\u00f3n binaria tambi\u00e9n son capic\u00faas.\n",
      "\n",
      "Para esto, escribamos una funci\u00f3n que, dada una cadena, juzgue si es pal\u00edndromo o no:"
     ]
    },
    {
     "cell_type": "code",
     "collapsed": false,
     "input": [
      "def es_palindromo(x):\n",
      "    x = str(x)\n",
      "    if x == x[::-1]: return True\n",
      "    else: return False"
     ],
     "language": "python",
     "metadata": {},
     "outputs": [],
     "prompt_number": 200
    },
    {
     "cell_type": "markdown",
     "metadata": {},
     "source": [
      "Prob\u00e9mosla usando [un pal\u00edndromo de Pedro Poitev\u00edn](https://twitter.com/poitevin/status/249483263851245569):"
     ]
    },
    {
     "cell_type": "code",
     "collapsed": false,
     "input": [
      "es_palindromo(\"Arriba la birra\".lower().replace(' ', ''))"
     ],
     "language": "python",
     "metadata": {},
     "outputs": [
      {
       "output_type": "pyout",
       "prompt_number": 209,
       "text": [
        "True"
       ]
      }
     ],
     "prompt_number": 209
    },
    {
     "cell_type": "markdown",
     "metadata": {},
     "source": [
      "Ahora calculemos todos los capic\u00faas (en base 10) de longitud menor que 12 que tambi\u00e9n son capic\u00faas en su representaci\u00f3n binaria:"
     ]
    },
    {
     "cell_type": "code",
     "collapsed": false,
     "input": [
      "caps = []\n",
      "for i in range(12):\n",
      "    caps = caps + palindromos(i+1)\n",
      "    \n",
      "dobles_capicuas = [x for x in caps if es_palindromo(bin(x)[2:])]\n",
      "    \n",
      "for a in dobles_capicuas:\n",
      "    print a, \"=\", bin(a)[2:]\n",
      "print \"Total de capic\u00faas dobles: \", len(dobles_capicuas)"
     ],
     "language": "python",
     "metadata": {},
     "outputs": [
      {
       "output_type": "stream",
       "stream": "stdout",
       "text": [
        "0 = 0\n",
        "1 = 1\n",
        "3 = 11\n",
        "5 = 101\n",
        "7 = 111\n",
        "9 = 1001\n",
        "33 = 100001\n",
        "99 = 1100011\n",
        "313 = 100111001\n",
        "585 = 1001001001\n",
        "717 = 1011001101\n",
        "7447 = 1110100010111\n",
        "9009 = 10001100110001\n",
        "15351 = 11101111110111\n",
        "32223 = 111110111011111\n",
        "39993 = 1001110000111001\n",
        "53235 = 1100111111110011\n",
        "53835 = 1101001001001011\n",
        "73737 = 10010000000001001\n",
        "585585 = 10001110111101110001\n",
        "1758571 = 110101101010101101011\n",
        "1934391 = 111011000010000110111\n",
        "1979791 = 111100011010110001111\n",
        "3129213 = 1011111011111101111101\n",
        "5071705 = 10011010110001101011001\n",
        "5259525 = 10100000100000100000101\n",
        "5841485 = 10110010010001001001101\n",
        "13500531 = 110011100000000001110011\n",
        "719848917 = 101010111010000000010111010101\n",
        "910373019 = 110110010000110011000010011011\n",
        "939474939 = 110111111111110011111111111011\n",
        "1290880921 = 1001100111100010100011110011001\n",
        "7451111547 = 110111100000111101111000001111011\n",
        "10050905001 = 1001010111000101001010001110101001\n",
        "18462126481 = 10001001100011011011011000110010001\n",
        "32479297423 = 11110001111111010101011111110001111\n",
        "75015151057 = 1000101110111010000000101110111010001\n",
        "110948849011 = 1100111010101000100010001010101110011\n",
        "136525525631 = 1111111001001100011100011001001111111\n",
        "Total de capic\u00faas dobles:  39"
       ]
      }
     ],
     "prompt_number": 231
    },
    {
     "cell_type": "markdown",
     "metadata": {},
     "source": [
      "(Este es otro cuaderno de [Javier Moreno](http://finiterank.com/notas))"
     ]
    }
   ],
   "metadata": {}
  }
 ]
}