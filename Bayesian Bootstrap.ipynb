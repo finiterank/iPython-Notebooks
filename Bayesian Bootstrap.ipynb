{
 "cells": [
  {
   "cell_type": "markdown",
   "metadata": {},
   "source": [
    "# Bayesian Bootstrap"
   ]
  },
  {
   "cell_type": "code",
   "execution_count": 75,
   "metadata": {
    "collapsed": true
   },
   "outputs": [],
   "source": [
    "import pandas as pd\n",
    "import numpy as np\n",
    "import matplotlib.pyplot as plt\n",
    "\n",
    "%matplotlib inline"
   ]
  },
  {
   "cell_type": "markdown",
   "metadata": {},
   "source": [
    "An implementation in Python of tha basic functionality of the function `bayes_boot` described [here](http://www.sumsar.net/blog/2015/07/easy-bayesian-bootstrap-in-r/).\n",
    "\n",
    "First we need a Dirichlet sampling function:"
   ]
  },
  {
   "cell_type": "code",
   "execution_count": 76,
   "metadata": {
    "collapsed": false
   },
   "outputs": [],
   "source": [
    "def dirichlet_sample(dimension, size=1): \n",
    "    sample = np.random.exponential(1, (size, dimension))\n",
    "    row_sums = sample.sum(axis=1)\n",
    "    return sample/row_sums[:, np.newaxis]"
   ]
  },
  {
   "cell_type": "markdown",
   "metadata": {},
   "source": [
    "Then our bootstrap built on top of the Dirichlet sampling:"
   ]
  },
  {
   "cell_type": "code",
   "execution_count": 77,
   "metadata": {
    "collapsed": true
   },
   "outputs": [],
   "source": [
    "def bayes_boot(data, size, sample_size, function=lambda x: x):\n",
    "    dimension = len(data)\n",
    "    weights = dirichlet_sample(dimension, size)\n",
    "    samples = np.array([function(np.random.choice(data, \n",
    "                                                  size=sample_size, \n",
    "                                                  replace=True, \n",
    "                                                  p=w)) \n",
    "                        for w in weights])\n",
    "    return samples"
   ]
  },
  {
   "cell_type": "markdown",
   "metadata": {},
   "source": [
    "Let us now use the function for estimating a credible interval for the median and mean of the height of American presidents:"
   ]
  },
  {
   "cell_type": "code",
   "execution_count": 97,
   "metadata": {
    "collapsed": false
   },
   "outputs": [],
   "source": [
    "presidents = pd.read_csv('http://www.sumsar.net/files/posts/2015-07-14-easy-bayesian-bootstrap-in-r/american_presidents.csv')"
   ]
  },
  {
   "cell_type": "code",
   "execution_count": 87,
   "metadata": {
    "collapsed": false
   },
   "outputs": [],
   "source": [
    "heights = list(presidents.height_cm)"
   ]
  },
  {
   "cell_type": "code",
   "execution_count": 101,
   "metadata": {
    "collapsed": false
   },
   "outputs": [
    {
     "data": {
      "image/png": "[encoded data removed]",
      "text/plain": [
       "<matplotlib.figure.Figure at 0x1102b9150>"
      ]
     },
     "metadata": {},
     "output_type": "display_data"
    }
   ],
   "source": [
    "_ = plt.hist(heights, color='green',alpha=0.8)"
   ]
  },
  {
   "cell_type": "code",
   "execution_count": 88,
   "metadata": {
    "collapsed": true
   },
   "outputs": [],
   "source": [
    "bayesian_median_heights = bayes_boot(heights, 3000, 1000, np.median)"
   ]
  },
  {
   "cell_type": "code",
   "execution_count": 99,
   "metadata": {
    "collapsed": false
   },
   "outputs": [
    {
     "name": "stdout",
     "output_type": "stream",
     "text": [
      "95% credible interval for the median:\n",
      "[ 178.  183.]\n"
     ]
    }
   ],
   "source": [
    "print '95% credible interval for the median:'\n",
    "print np.percentile(bayesian_median_heights, [2.5, 97.5])"
   ]
  },
  {
   "cell_type": "code",
   "execution_count": 100,
   "metadata": {
    "collapsed": false
   },
   "outputs": [
    {
     "name": "stdout",
     "output_type": "stream",
     "text": [
      "95% credible interval for the mean:\n",
      "[ 177.660745  181.85117 ]\n"
     ]
    },
    {
     "data": {
      "image/png": "[encoded data removed]",
      "text/plain": [
       "<matplotlib.figure.Figure at 0x108778550>"
      ]
     },
     "metadata": {},
     "output_type": "display_data"
    }
   ],
   "source": [
    "bayesian_mean_heights = bayes_boot(heights, 3000, 1000, np.mean)\n",
    "_ = plt.hist(bayesian_mean_heights, 50, color='orange',alpha=0.8)\n",
    "\n",
    "print '95% credible interval for the mean:'\n",
    "print np.percentile(bayesian_mean_heights, [2.5, 97.5])"
   ]
  }
 ],
 "metadata": {
  "kernelspec": {
   "display_name": "Python 2",
   "language": "python",
   "name": "python2"
  },
  "language_info": {
   "codemirror_mode": {
    "name": "ipython",
    "version": 2
   },
   "file_extension": ".py",
   "mimetype": "text/x-python",
   "name": "python",
   "nbconvert_exporter": "python",
   "pygments_lexer": "ipython2",
   "version": "2.7.6"
  }
 },
 "nbformat": 4,
 "nbformat_minor": 0
}
