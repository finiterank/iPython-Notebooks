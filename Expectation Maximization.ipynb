{
 "cells": [
  {
   "cell_type": "markdown",
   "metadata": {},
   "source": [
    "# Expectation Maximization"
   ]
  },
  {
   "cell_type": "code",
   "execution_count": 7,
   "metadata": {
    "collapsed": false
   },
   "outputs": [],
   "source": [
    "%matplotlib inline\n",
    "from __future__ import division\n",
    "import random\n",
    "import numpy as np\n",
    "import pandas as pd\n",
    "import scipy.stats as stats\n",
    "import matplotlib.pyplot as plt\n",
    "import matplotlib as mpl\n",
    "from ipywidgets import interact, FloatSlider"
   ]
  },
  {
   "cell_type": "markdown",
   "metadata": {},
   "source": [
    "I was checking [this post](http://nipunbatra.github.io/2014/04/em/) from last year about Expectation Maximization and I noticed that the first piece of code did not quite work anymore (some of the classes from `ipywidgets` it used are now gone), so I started checking the rest of the code to see what else I could fix or improve.\n",
    "\n",
    "First the widget. Not much change here. The decorator makes the code a little bit more elegant:"
   ]
  },
  {
   "cell_type": "code",
   "execution_count": 8,
   "metadata": {
    "collapsed": false
   },
   "outputs": [
    {
     "data": {
      "image/png": "[encoded data removed]",
      "text/plain": [
       "<matplotlib.figure.Figure at 0x10b51ead0>"
      ]
     },
     "metadata": {},
     "output_type": "display_data"
    }
   ],
   "source": [
    "p_slider = FloatSlider(min=0, max=1.0, step=0.1, value=0.5)\n",
    "\n",
    "@interact(p=p_slider)\n",
    "def plot_binomial(p=0.5):\n",
    "    a=range(11)\n",
    "    fig, ax = plt.subplots(figsize=(20,7))\n",
    "    y = [0]*11\n",
    "    for i in a:\n",
    "        y[i-1] =  stats.binom.pmf(i, 10, p)\n",
    "    ax.bar(a,y,label=\"$p = %.1f$\" % p)\n",
    "    ax.set_ylabel('PMF of $k$ heads')\n",
    "    ax.set_xlabel('$k$')\n",
    "    ax.set_ylim((0,0.5))\n",
    "    ax.set_xlim((0,10))\n",
    "    ax.legend()"
   ]
  },
  {
   "cell_type": "markdown",
   "metadata": {},
   "source": [
    "The next big chunk of code was the implementation of the EM algorithm itself. I noticed that the code was not using vectorized functions and that (partly because of this) it forced the number of priors to be two. So I refactored it in such a way that it is now able to handle arbitrary number of priors (in case we assume that, for instance, we have tree coins (or seven (or two hundred)) instead of two). This is the resulting version:"
   ]
  },
  {
   "cell_type": "code",
   "execution_count": 9,
   "metadata": {
    "collapsed": true
   },
   "outputs": [],
   "source": [
    "def em_single(priors, observations):\n",
    "    tails = heads = np.zeros(len(priors))\n",
    "\n",
    "    for observation in observations: \n",
    "        len_observation = len(observation)\n",
    "        num_heads = observation.sum()\n",
    "        num_tails = len_observation - num_heads\n",
    "        contributions = stats.binom.pmf(num_heads,len_observation,priors)\n",
    "        weights = contributions / sum(contributions)\n",
    "        heads = heads + weights * num_heads\n",
    "        tails = tails + weights * num_tails \n",
    " \n",
    "    new_priors = heads / (heads + tails)\n",
    "    return new_priors\n",
    "\n",
    "def em(observations, prior, tol=1e-6, iterations=10000):\n",
    "    for iteration in xrange(iterations):\n",
    "        new_prior = em_single(prior, observations)\n",
    "        delta_change = np.abs(prior[0]-new_prior[0])\n",
    "        if delta_change<tol:\n",
    "            break\n",
    "        else:\n",
    "            prior = new_prior\n",
    "    return [new_prior, iteration]"
   ]
  },
  {
   "cell_type": "markdown",
   "metadata": {},
   "source": [
    "What follows now is a function for generating observations given a vector of probabilities for heads, one for each coin, and also the number of trials for each coin."
   ]
  },
  {
   "cell_type": "code",
   "execution_count": 10,
   "metadata": {
    "collapsed": false
   },
   "outputs": [],
   "source": [
    "def obs(p, n=10):\n",
    "    r = np.random.binomial(n, p)\n",
    "    output = ([1] * r) + ([0] * (n-r))\n",
    "    random.shuffle(output)\n",
    "    return output\n",
    "\n",
    "def multiple_obs(probs, trials, n=10):\n",
    "    return np.concatenate([np.array([obs(p, n) for i in range(t)]) for p, t in zip(probs, trials)])"
   ]
  },
  {
   "cell_type": "markdown",
   "metadata": {},
   "source": [
    "For instance, here we have 30 trials with a coin with probability 0.2 for heads, 33 trials with a fair coin and 32 trials with a coin with probability 0.7 for heads:"
   ]
  },
  {
   "cell_type": "code",
   "execution_count": 11,
   "metadata": {
    "collapsed": false
   },
   "outputs": [
    {
     "name": "stdout",
     "output_type": "stream",
     "text": [
      "[[0 0 0 0 0 0 0 0 0 0]\n",
      " [0 0 0 0 0 0 0 0 0 0]\n",
      " [0 0 0 0 0 0 0 0 0 0]\n",
      " [0 0 0 0 0 0 0 0 0 0]\n",
      " [1 0 1 1 0 0 0 0 0 0]\n",
      " [0 0 0 0 0 0 0 0 0 0]\n",
      " [0 1 0 0 1 0 1 0 1 0]\n",
      " [0 0 1 0 0 0 0 0 0 0]\n",
      " [1 0 0 1 0 1 0 1 0 1]\n",
      " [0 0 0 0 0 0 0 1 0 0]\n",
      " [0 0 0 1 0 0 0 0 1 0]\n",
      " [0 0 0 0 1 0 0 0 0 0]\n",
      " [1 0 0 0 0 0 0 1 0 1]\n",
      " [0 0 0 0 0 0 0 0 0 1]\n",
      " [0 1 1 0 0 0 0 0 1 0]\n",
      " [0 0 0 0 1 0 0 0 0 0]\n",
      " [0 0 0 0 0 1 1 0 1 0]\n",
      " [0 0 0 0 0 0 1 0 0 0]\n",
      " [1 0 0 0 0 0 1 0 0 0]\n",
      " [0 1 1 1 0 0 1 0 0 0]\n",
      " [0 0 0 0 1 0 0 0 0 0]\n",
      " [1 0 0 0 1 0 0 0 0 0]\n",
      " [0 0 0 0 0 1 0 0 0 1]\n",
      " [0 0 1 0 0 0 0 0 0 1]\n",
      " [0 0 0 0 0 0 1 1 1 0]\n",
      " [0 0 1 0 0 0 0 0 0 0]\n",
      " [0 1 0 1 0 1 0 1 0 0]\n",
      " [1 0 0 0 0 0 0 1 1 1]\n",
      " [0 1 0 0 0 0 0 0 0 0]\n",
      " [0 0 1 0 1 0 0 0 1 1]\n",
      " [1 0 1 1 0 1 1 0 1 1]\n",
      " [1 0 1 0 0 0 0 0 0 1]\n",
      " [0 0 1 1 1 1 0 1 1 1]\n",
      " [1 1 1 1 1 0 1 1 1 1]\n",
      " [1 1 0 1 1 0 0 0 1 1]\n",
      " [1 1 0 0 1 1 0 1 1 1]\n",
      " [0 1 0 0 1 1 0 0 1 1]\n",
      " [1 0 0 1 0 0 1 0 0 1]\n",
      " [1 1 0 1 1 1 1 1 0 0]\n",
      " [0 0 1 0 0 0 1 0 0 1]\n",
      " [0 0 0 0 1 1 0 1 1 1]\n",
      " [0 0 1 0 0 1 0 1 0 1]\n",
      " [1 0 0 1 1 1 0 1 1 0]\n",
      " [0 0 1 1 1 0 0 0 1 1]\n",
      " [1 1 1 0 1 0 0 0 1 1]\n",
      " [1 0 0 1 1 0 0 0 0 0]\n",
      " [1 0 0 1 0 0 0 0 1 0]\n",
      " [1 1 0 1 0 1 0 1 0 0]\n",
      " [1 0 0 0 1 0 0 1 0 1]\n",
      " [0 1 0 1 1 0 1 1 1 0]\n",
      " [1 1 0 0 0 1 0 0 0 1]\n",
      " [1 1 0 0 1 1 1 1 0 0]\n",
      " [1 1 0 1 0 1 0 0 0 0]\n",
      " [1 1 0 1 1 1 1 0 1 1]\n",
      " [0 1 1 1 0 0 0 0 1 1]\n",
      " [0 0 1 1 1 0 1 1 0 1]\n",
      " [1 0 0 1 0 1 1 1 1 0]\n",
      " [1 1 1 1 0 0 0 0 1 1]\n",
      " [1 0 0 0 1 1 0 1 0 1]\n",
      " [0 0 0 1 1 0 0 1 1 1]\n",
      " [0 1 1 0 1 0 1 1 0 1]\n",
      " [1 1 1 1 0 0 1 1 1 1]\n",
      " [1 1 0 0 0 0 1 1 0 1]\n",
      " [1 1 0 0 1 1 0 1 0 1]\n",
      " [0 0 1 1 0 0 1 1 1 0]\n",
      " [1 1 1 0 1 1 0 1 0 1]\n",
      " [0 1 1 1 1 1 0 0 0 1]\n",
      " [0 1 1 0 1 1 1 1 1 0]\n",
      " [1 1 1 1 1 1 1 0 1 1]\n",
      " [1 1 0 0 1 0 0 1 0 1]\n",
      " [0 1 1 0 0 1 0 1 1 1]\n",
      " [1 1 1 1 0 0 1 1 1 0]\n",
      " [0 1 1 0 1 0 1 1 0 1]\n",
      " [0 1 1 1 1 1 1 1 0 1]\n",
      " [0 1 1 0 0 0 1 0 1 0]\n",
      " [0 1 0 1 1 1 1 1 1 1]\n",
      " [1 0 1 1 1 1 0 1 1 0]\n",
      " [0 1 0 0 1 0 1 1 1 0]\n",
      " [1 0 0 1 0 0 1 1 1 1]\n",
      " [1 0 0 0 0 0 0 0 1 1]\n",
      " [1 0 1 0 0 1 0 1 0 1]\n",
      " [1 0 1 1 1 0 1 1 1 1]\n",
      " [1 1 0 1 0 1 1 1 1 1]\n",
      " [1 0 0 1 0 1 1 1 1 1]\n",
      " [1 0 0 1 1 1 1 1 1 1]\n",
      " [1 1 1 1 0 0 0 0 1 1]\n",
      " [1 0 0 0 1 1 1 1 1 1]\n",
      " [0 0 1 1 0 0 0 1 1 1]\n",
      " [0 1 1 1 1 0 0 1 0 1]\n",
      " [1 0 1 1 1 1 1 1 1 0]\n",
      " [1 1 1 1 1 1 0 0 1 1]\n",
      " [0 1 0 1 1 0 0 1 1 1]\n",
      " [1 1 1 0 1 0 0 1 1 0]\n",
      " [1 0 1 0 1 0 0 1 1 0]\n",
      " [1 0 1 1 1 1 0 1 1 1]]\n"
     ]
    }
   ],
   "source": [
    "observations = multiple_obs([0.2, 0.5, 0.7], [30, 33, 32])\n",
    "print observations"
   ]
  },
  {
   "cell_type": "markdown",
   "metadata": {},
   "source": [
    "Let's now try EM with priors 0.1, 0.2, 0.3: "
   ]
  },
  {
   "cell_type": "code",
   "execution_count": 12,
   "metadata": {
    "collapsed": false
   },
   "outputs": [
    {
     "data": {
      "text/plain": [
       "[array([ 0.18065851,  0.58346535,  0.59010421]), 91]"
      ]
     },
     "execution_count": 12,
     "metadata": {},
     "output_type": "execute_result"
    }
   ],
   "source": [
    "em(observations, [0.1, 0.2, 0.3])"
   ]
  },
  {
   "cell_type": "markdown",
   "metadata": {},
   "source": [
    "Not bad! Next same observations and priors 0.8, 0.85, 0.9:"
   ]
  },
  {
   "cell_type": "code",
   "execution_count": 13,
   "metadata": {
    "collapsed": false
   },
   "outputs": [
    {
     "data": {
      "text/plain": [
       "[array([ 0.18065845,  0.58346002,  0.59010943]), 84]"
      ]
     },
     "execution_count": 13,
     "metadata": {},
     "output_type": "execute_result"
    }
   ],
   "source": [
    "em(observations, [0.8, 0.85, 0.9])"
   ]
  },
  {
   "cell_type": "markdown",
   "metadata": {},
   "source": [
    "Another set of observations. Three fair coins. Is EM gonna get confused? "
   ]
  },
  {
   "cell_type": "code",
   "execution_count": 14,
   "metadata": {
    "collapsed": true
   },
   "outputs": [],
   "source": [
    "observations = multiple_obs([0.5, 0.5, 0.5], [30, 33, 32])"
   ]
  },
  {
   "cell_type": "code",
   "execution_count": 15,
   "metadata": {
    "collapsed": false
   },
   "outputs": [
    {
     "data": {
      "text/plain": [
       "[array([ 0.5147204 ,  0.51473283,  0.5147573 ]), 134]"
      ]
     },
     "execution_count": 15,
     "metadata": {},
     "output_type": "execute_result"
    }
   ],
   "source": [
    "em(observations, [0.8, 0.85, 0.9])"
   ]
  },
  {
   "cell_type": "code",
   "execution_count": 16,
   "metadata": {
    "collapsed": false
   },
   "outputs": [
    {
     "data": {
      "text/plain": [
       "[array([ 0.51472015,  0.51475572,  0.51473466]), 134]"
      ]
     },
     "execution_count": 16,
     "metadata": {},
     "output_type": "execute_result"
    }
   ],
   "source": [
    "em(observations, [0.4, 0.6, 0.5])"
   ]
  },
  {
   "cell_type": "markdown",
   "metadata": {},
   "source": [
    "Not as good. And it takes a lot of iterations (in comparison to the previous set of observations) to reach convergence. "
   ]
  },
  {
   "cell_type": "markdown",
   "metadata": {},
   "source": [
    "Finally a tiny experiment. If I grow little by little my trial set and run EM always starting with the same priors does the EM predictions improve as the number of trials grows? Most surely, but how fast?"
   ]
  },
  {
   "cell_type": "code",
   "execution_count": 27,
   "metadata": {
    "collapsed": false
   },
   "outputs": [],
   "source": [
    "a = []\n",
    "real_probs = [0.3, 0.5, 0.8]\n",
    "observations = multiple_obs(real_probs, [20] * 3)\n",
    "for i in range(100):\n",
    "    observations = np.concatenate([observations, multiple_obs(real_probs, [1]*3)])\n",
    "    a.append(sorted(em(observations, [0.1, 0.2, 0.3])[0]))"
   ]
  },
  {
   "cell_type": "code",
   "execution_count": 30,
   "metadata": {
    "collapsed": false
   },
   "outputs": [],
   "source": [
    "df = pd.DataFrame(a)\n",
    "df.columns = ['p1', 'p2', 'p3']"
   ]
  },
  {
   "cell_type": "code",
   "execution_count": 34,
   "metadata": {
    "collapsed": false
   },
   "outputs": [
    {
     "data": {
      "text/plain": [
       "<matplotlib.axes._subplots.AxesSubplot at 0x10de75850>"
      ]
     },
     "execution_count": 34,
     "metadata": {},
     "output_type": "execute_result"
    },
    {
     "data": {
      "image/png": "[encoded data removed]",
      "text/plain": [
       "<matplotlib.figure.Figure at 0x10cc60a10>"
      ]
     },
     "metadata": {},
     "output_type": "display_data"
    }
   ],
   "source": [
    "df.plot(figsize=[20,15])"
   ]
  },
  {
   "cell_type": "code",
   "execution_count": null,
   "metadata": {
    "collapsed": true
   },
   "outputs": [],
   "source": []
  }
 ],
 "metadata": {
  "kernelspec": {
   "display_name": "Python 2",
   "language": "python",
   "name": "python2"
  },
  "language_info": {
   "codemirror_mode": {
    "name": "ipython",
    "version": 2
   },
   "file_extension": ".py",
   "mimetype": "text/x-python",
   "name": "python",
   "nbconvert_exporter": "python",
   "pygments_lexer": "ipython2",
   "version": "2.7.6"
  }
 },
 "nbformat": 4,
 "nbformat_minor": 0
}
