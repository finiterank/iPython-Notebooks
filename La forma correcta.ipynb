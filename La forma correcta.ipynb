{
 "cells": [
  {
   "cell_type": "code",
   "execution_count": 3,
   "metadata": {
    "collapsed": false
   },
   "outputs": [
    {
     "name": "stdout",
     "output_type": "stream",
     "text": [
      "tequimon: @SerchC, @Losadak, @JuanPSaenz, @guerrapau, @PabsNYC\n",
      "cherrynol: Santiagpajaro, @egolaxista_, @cauribe, @LemasaCDLM, @gomezoscar\n",
      "niquelado: @Colombialvarado, @ensergio, @jcesarsanm, @link73, @ferdiaze\n",
      "cocochevere: @RealAPS, @afaroth, @salentoq, ch107, @MonsieurDLaTour\n"
     ]
    }
   ],
   "source": [
    "from numpy.random import permutation\n",
    "from numpy import split\n",
    "\n",
    "groups = ['tequimon', 'cherrynol', 'niquelado', 'cocochevere']\n",
    "lista = ['@cauribe', '@salentoq', '@link73', '@LemasaCDLM', 'Santiagpajaro',\n",
    "         '@PabsNYC', '@egolaxista_', '@gomezoscar', '@ensergio', '@SerchC',\n",
    "         '@Losadak', '@afaroth', '@MonsieurDLaTour', '@RealAPS', '@jcesarsanm',\n",
    "         '@ferdiaze', '@Colombialvarado', '@guerrapau', '@JuanPSaenz', '@ch107']\n",
    "\n",
    "for name, group in zip(groups, split(permutation(lista), 4)):\n",
    "    print '{NAME}: {GROUP}'.format(NAME=name, GROUP=', '.join(group))"
   ]
  }
 ],
 "metadata": {
  "kernelspec": {
   "display_name": "Python 2",
   "language": "python",
   "name": "python2"
  },
  "language_info": {
   "codemirror_mode": {
    "name": "ipython",
    "version": 2
   },
   "file_extension": ".py",
   "mimetype": "text/x-python",
   "name": "python",
   "nbconvert_exporter": "python",
   "pygments_lexer": "ipython2",
   "version": "2.7.6"
  }
 },
 "nbformat": 4,
 "nbformat_minor": 0
}
