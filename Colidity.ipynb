{
 "metadata": {
  "name": ""
 },
 "nbformat": 3,
 "nbformat_minor": 0,
 "worksheets": [
  {
   "cells": [
    {
     "cell_type": "markdown",
     "metadata": {},
     "source": [
      "# Colidity Sample Problems\n",
      "\n",
      "What follows are my solutions to [Colidity](https://codility.com)'s sample problems. I did lots of stupid problems getting to perfect solutions and my first submits were just sad. For the first one I forgot to return $-1$ in the case where there is no equilibrium index. For the second I had forgotten I had to uncount repeated cases and returned the exception way too early. For the third, the easiest of them all, I was using a list instead of a dictionary as a checked bag and thus spending too much time asking if an element had been checked already while iterating over the list.\n",
      "\n",
      "I felt that the expected complexity requirements for each problem end up giving up too much information about the nature of the solutions."
     ]
    },
    {
     "cell_type": "markdown",
     "metadata": {},
     "source": [
      "## Equilibrium index \n",
      "\n",
      "A zero-indexed array $A$ consisting of $N$ integers is given. An _equilibrium index_ of this array is any integer $P$ such that $0 \\leq P < N$ and the sum of elements of lower indices is equal to the sum of elements of higher indices, i.e. $$A[0] + A[1] + \\cdots + A[P\u22121] = A[P+1] + \\cdots + A[N\u22122] + A[N\u22121].$$\n",
      "\n",
      "Sum of zero elements is assumed to be equal to $0$. This can happen if $P = 0$ or if $P = N\u22121$.\n",
      "\n",
      "Write a function `def solution(A)` that, given a zero-indexed array $A$ consisting of $N$ integers, returns any of its equilibrium indices. The function should return $\u22121$ if no equilibrium index exists.\n",
      "\n",
      "**Complexity:**\n",
      "\n",
      "* expected worst-case time complexity is $O(N)$;\n",
      "* expected worst-case space complexity is $O(N)$, beyond input storage (not counting the storage required for input arguments)."
     ]
    },
    {
     "cell_type": "code",
     "collapsed": false,
     "input": [
      "def solution(A):\n",
      "    uppersum = sum(A)\n",
      "    lowersum = 0\n",
      "    term = 0\n",
      "    for i, x in enumerate(A):        \n",
      "        lowersum += term\n",
      "        term = x\n",
      "        uppersum -= term\n",
      "        if lowersum == uppersum:\n",
      "            return i\n",
      "    return -1"
     ],
     "language": "python",
     "metadata": {},
     "outputs": [],
     "prompt_number": 27
    },
    {
     "cell_type": "markdown",
     "metadata": {},
     "source": [
      "## Intersecting discs\n",
      "\n",
      "Given an array $A$ of $N$ integers, we draw $N$ discs in a 2D plane such that the $I$-th disc is centered on $(0,I)$ and has a radius of $A[I]$. We say that the $J$-th disc and $K$-th disc intersect if $J \\neq K$ and $J$-th and $K$-th discs have at least one common point.\n",
      "\n",
      "Write a function `def solution(A)` that, given an array $A$ describing $N$ discs as explained above, returns the number of pairs of intersecting discs. \n",
      "\n",
      "The function should return $\u22121$ if the number of intersecting pairs exceeds $10^7$.\n",
      "\n",
      "**Complexity:**\n",
      "\n",
      "* expected worst-case time complexity is $O(N*log(N))$;\n",
      "* expected worst-case space complexity is $O(N)$, beyond input storage (not counting the storage required for input arguments)."
     ]
    },
    {
     "cell_type": "code",
     "collapsed": false,
     "input": [
      "from bisect import bisect_right\n",
      "\n",
      "def solution(A):\n",
      "    n = len(A)\n",
      "    upper = sorted([i + x for i, x in enumerate(A)])\n",
      "    lower = sorted([i - x for i, x in enumerate(A)])\n",
      "    counter = 0\n",
      "    for v in upper:\n",
      "        counter += bisect_right(lower, v)\n",
      "    counter -= n * (n + 1) / 2\n",
      "    if counter > 1e7:\n",
      "        return -1\n",
      "    return counter    "
     ],
     "language": "python",
     "metadata": {},
     "outputs": [],
     "prompt_number": 32
    },
    {
     "cell_type": "markdown",
     "metadata": {},
     "source": [
      "## First covering index\n",
      "\n",
      "A non-empty zero-indexed array $A$ consisting of $N$ integers is given. The _first covering prefix_ of array $A$ is the smallest integer $P$ such that $0 \\leq P < N$ and such that every value that occurs in array $A$ also occurs in sequence $A[0], A[1], \\ldots, A[P]$.\n",
      "\n",
      "Write a function `def solution(A)` that, given a zero-indexed non-empty array $A$ consisting of $N$ integers, returns the first covering prefix of $A$.\n",
      "\n",
      "**Complexity:**\n",
      "\n",
      "* expected worst-case time complexity is $O(N)$;\n",
      "* expected worst-case space complexity is $O(N)$, beyond input storage (not counting the storage required for input arguments)."
     ]
    },
    {
     "cell_type": "code",
     "collapsed": false,
     "input": [
      "def solution(A):\n",
      "    checked = {}\n",
      "    r = 0\n",
      "    for i, x in enumerate(A):\n",
      "        if not x in checked:\n",
      "            checked[x] = True\n",
      "            r = i\n",
      "    return r"
     ],
     "language": "python",
     "metadata": {},
     "outputs": [],
     "prompt_number": 71
    }
   ],
   "metadata": {}
  }
 ]
}