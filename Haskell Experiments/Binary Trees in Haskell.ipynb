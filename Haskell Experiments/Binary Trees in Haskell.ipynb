{
 "cells": [
  {
   "cell_type": "markdown",
   "metadata": {},
   "source": [
    "\n",
    "# Binary trees in Haskell\n",
    "\n",
    "![A tree](https://farm6.staticflickr.com/5134/5519064502_b2055733b5_z.jpg)"
   ]
  },
  {
   "cell_type": "markdown",
   "metadata": {},
   "source": [
    "This is a simple implementation of binary trees (and some of their basic functions) using [Haskell](https://www.haskell.org/). \n",
    "\n",
    "## Definition\n",
    "\n",
    "Short and clean: a tree is either empty or composed by a node that has two trees (left and right) under it:"
   ]
  },
  {
   "cell_type": "code",
   "execution_count": 11,
   "metadata": {
    "collapsed": true
   },
   "outputs": [],
   "source": [
    "data Tree a = EmptyTree | Node a (Tree a) (Tree a) deriving (Show, Read, Eq)  "
   ]
  },
  {
   "cell_type": "markdown",
   "metadata": {},
   "source": [
    "\n",
    "## Node insertion\n",
    "\n",
    "Given a node with value $x$, anything under it to the left should be less than $x$ and to the right should be bigger than $x$:"
   ]
  },
  {
   "cell_type": "code",
   "execution_count": 12,
   "metadata": {
    "collapsed": false
   },
   "outputs": [],
   "source": [
    "insertNode :: (Ord a) => a -> Tree a -> Tree a\n",
    "insertNode x EmptyTree = Node x EmptyTree EmptyTree\n",
    "insertNode x (Node y left right) \n",
    "    | x == y = Node y left right\n",
    "    | x < y  = Node y (insertNode x left) right\n",
    "    | x > y  = Node y left (insertNode x right)"
   ]
  },
  {
   "cell_type": "markdown",
   "metadata": {},
   "source": [
    "## Building trees\n",
    "\n",
    "The following function uses insertion to build binary trees from lists:"
   ]
  },
  {
   "cell_type": "code",
   "execution_count": 13,
   "metadata": {
    "collapsed": false
   },
   "outputs": [],
   "source": [
    "buildTree = foldl (flip insertNode) EmptyTree "
   ]
  },
  {
   "cell_type": "markdown",
   "metadata": {},
   "source": [
    "### Example"
   ]
  },
  {
   "cell_type": "code",
   "execution_count": 14,
   "metadata": {
    "collapsed": false
   },
   "outputs": [],
   "source": [
    "t = buildTree [2, 1, 3, 4, 2.5, 1.5, 0.5]"
   ]
  },
  {
   "cell_type": "code",
   "execution_count": 15,
   "metadata": {
    "collapsed": false
   },
   "outputs": [
    {
     "data": {
      "text/plain": [
       "Node 2.0 (Node 1.0 (Node 0.5 EmptyTree EmptyTree) (Node 1.5 EmptyTree EmptyTree)) (Node 3.0 (Node 2.5 EmptyTree EmptyTree) (Node 4.0 EmptyTree EmptyTree))"
      ]
     },
     "metadata": {},
     "output_type": "display_data"
    }
   ],
   "source": [
    "t"
   ]
  },
  {
   "cell_type": "markdown",
   "metadata": {},
   "source": [
    "## Extreme values\n",
    "\n",
    "The minimum value in a tree is obtained by starting at the root and follow the left branch as deeply as possible:"
   ]
  },
  {
   "cell_type": "code",
   "execution_count": 16,
   "metadata": {
    "collapsed": true
   },
   "outputs": [],
   "source": [
    "minimumInTree :: (Ord a) => Tree a -> a\n",
    "minimumInTree EmptyTree = error \"Tree is empty\"\n",
    "minimumInTree (Node x left right) \n",
    "    | left == EmptyTree = x\n",
    "    | otherwise = minimumInTree left"
   ]
  },
  {
   "cell_type": "markdown",
   "metadata": {},
   "source": [
    "### Example:"
   ]
  },
  {
   "cell_type": "code",
   "execution_count": 19,
   "metadata": {
    "collapsed": false
   },
   "outputs": [
    {
     "data": {
      "text/plain": [
       "0.5"
      ]
     },
     "metadata": {},
     "output_type": "display_data"
    }
   ],
   "source": [
    "minimumInTree t"
   ]
  },
  {
   "cell_type": "markdown",
   "metadata": {},
   "source": [
    "## Node deletion\n",
    "\n",
    "Nodes are easy to delete if they have at most one branch. Just push everything up. If they have both branches, the value of the node needs to be replaced by that of the value in which is the successor in the tree considering only the nodes below. It sounds tricky but it is not that hard:"
   ]
  },
  {
   "cell_type": "code",
   "execution_count": 20,
   "metadata": {
    "collapsed": false
   },
   "outputs": [],
   "source": [
    "deleteNode :: (Ord a, Eq a) => a -> Tree a -> Tree a\n",
    "deleteNode x EmptyTree = EmptyTree\n",
    "deleteNode x (Node y left right)\n",
    "    | x < y = Node y (deleteNode x left) right\n",
    "    | x > y = Node y left (deleteNode x right)\n",
    "    | x == y && left == EmptyTree = right\n",
    "    | x == y && right == EmptyTree = left\n",
    "    | otherwise = Node m left (deleteNode m right)\n",
    "    where m = minimumInTree right"
   ]
  },
  {
   "cell_type": "markdown",
   "metadata": {},
   "source": [
    "### Examples\n",
    "\n",
    "If the element is not in the tree, nothing should happen:"
   ]
  },
  {
   "cell_type": "code",
   "execution_count": 49,
   "metadata": {
    "collapsed": false
   },
   "outputs": [
    {
     "data": {
      "text/plain": [
       "Node 2.0 (Node 1.0 (Node 0.5 EmptyTree EmptyTree) (Node 1.5 EmptyTree EmptyTree)) (Node 3.0 (Node 2.5 EmptyTree EmptyTree) (Node 4.0 EmptyTree EmptyTree))"
      ]
     },
     "metadata": {},
     "output_type": "display_data"
    }
   ],
   "source": [
    "deleteNode 17 t"
   ]
  },
  {
   "cell_type": "markdown",
   "metadata": {},
   "source": [
    "Let's corroborate it:"
   ]
  },
  {
   "cell_type": "code",
   "execution_count": 50,
   "metadata": {
    "collapsed": false
   },
   "outputs": [
    {
     "data": {
      "text/plain": [
       "True"
      ]
     },
     "metadata": {},
     "output_type": "display_data"
    }
   ],
   "source": [
    "deleteNode 17 t == t"
   ]
  },
  {
   "cell_type": "markdown",
   "metadata": {},
   "source": [
    "Now we can try to delete a node that is actually in the tree:"
   ]
  },
  {
   "cell_type": "code",
   "execution_count": 26,
   "metadata": {
    "collapsed": false
   },
   "outputs": [
    {
     "data": {
      "text/plain": [
       "Node 2.0 (Node 1.0 (Node 0.5 EmptyTree EmptyTree) (Node 1.5 EmptyTree EmptyTree)) (Node 3.0 (Node 2.5 EmptyTree EmptyTree) EmptyTree)"
      ]
     },
     "metadata": {},
     "output_type": "display_data"
    }
   ],
   "source": [
    "deleteNode 4 t"
   ]
  },
  {
   "cell_type": "markdown",
   "metadata": {},
   "source": [
    "But 4 is easy: it is at the bottom of the tree (doesn't have any branches to deal with!).\n",
    "\n",
    "What about the root? This one is a little harder:"
   ]
  },
  {
   "cell_type": "code",
   "execution_count": 27,
   "metadata": {
    "collapsed": false
   },
   "outputs": [
    {
     "data": {
      "text/plain": [
       "Node 2.5 (Node 1.0 (Node 0.5 EmptyTree EmptyTree) (Node 1.5 EmptyTree EmptyTree)) (Node 3.0 EmptyTree (Node 4.0 EmptyTree EmptyTree))"
      ]
     },
     "metadata": {},
     "output_type": "display_data"
    }
   ],
   "source": [
    "deleteNode 2 t"
   ]
  },
  {
   "cell_type": "markdown",
   "metadata": {},
   "source": [
    "## Finding values in a tree\n",
    "\n",
    "This is one of the main reasons binary trees are useful: finding elements (once the tree has been built) is pretty —$O(\\log n)$— fast."
   ]
  },
  {
   "cell_type": "code",
   "execution_count": 33,
   "metadata": {
    "collapsed": false
   },
   "outputs": [],
   "source": [
    "findInTree :: (Ord a) => a -> Tree a -> Bool\n",
    "findInTree x EmptyTree = False\n",
    "findInTree x (Node y left right)\n",
    "    | x == y = True\n",
    "    | x < y = findInTree x left\n",
    "    | x > y = findInTree x right"
   ]
  },
  {
   "cell_type": "markdown",
   "metadata": {},
   "source": [
    "### Examples"
   ]
  },
  {
   "cell_type": "code",
   "execution_count": 34,
   "metadata": {
    "collapsed": false
   },
   "outputs": [
    {
     "data": {
      "text/plain": [
       "True"
      ]
     },
     "metadata": {},
     "output_type": "display_data"
    }
   ],
   "source": [
    "findInTree 2 t"
   ]
  },
  {
   "cell_type": "code",
   "execution_count": 53,
   "metadata": {
    "collapsed": false
   },
   "outputs": [
    {
     "data": {
      "text/plain": [
       "False"
      ]
     },
     "metadata": {},
     "output_type": "display_data"
    }
   ],
   "source": [
    "findInTree 17 t"
   ]
  },
  {
   "cell_type": "markdown",
   "metadata": {},
   "source": [
    "This gives us another way of testing our deleting function:"
   ]
  },
  {
   "cell_type": "code",
   "execution_count": 36,
   "metadata": {
    "collapsed": false
   },
   "outputs": [
    {
     "data": {
      "text/plain": [
       "False"
      ]
     },
     "metadata": {},
     "output_type": "display_data"
    }
   ],
   "source": [
    "findInTree 2 $ deleteNode 2 t"
   ]
  },
  {
   "cell_type": "markdown",
   "metadata": {},
   "source": [
    "## Ordering a tree\n",
    "\n",
    "It is also easy (given the tree) to generate a sorted list with its elements:"
   ]
  },
  {
   "cell_type": "code",
   "execution_count": 54,
   "metadata": {
    "collapsed": true
   },
   "outputs": [],
   "source": [
    "orderTree :: (Ord a) => Tree a -> [a]\n",
    "orderTree EmptyTree = []\n",
    "orderTree (Node x left right) = (orderTree left) ++ [x] ++ (orderTree right)"
   ]
  },
  {
   "cell_type": "markdown",
   "metadata": {},
   "source": [
    "### Example"
   ]
  },
  {
   "cell_type": "code",
   "execution_count": 38,
   "metadata": {
    "collapsed": false
   },
   "outputs": [
    {
     "data": {
      "text/plain": [
       "[0.5,1.0,1.5,2.0,2.5,3.0,4.0]"
      ]
     },
     "metadata": {},
     "output_type": "display_data"
    }
   ],
   "source": [
    "orderTree t"
   ]
  },
  {
   "cell_type": "markdown",
   "metadata": {},
   "source": [
    "## Reflecting a tree\n",
    "\n",
    "I've read that this is a common problem in technical interviews: write a function such that outputs a mirror image of a given tree (this of course reverses the order rule described above).\n",
    "\n",
    "In this setting the function is almost trivial:"
   ]
  },
  {
   "cell_type": "code",
   "execution_count": 39,
   "metadata": {
    "collapsed": false
   },
   "outputs": [],
   "source": [
    "mirrorTree :: (Ord a) => Tree a -> Tree a\n",
    "mirrorTree EmptyTree = EmptyTree\n",
    "mirrorTree (Node x left right) = Node x (mirrorTree right) (mirrorTree left)"
   ]
  },
  {
   "cell_type": "markdown",
   "metadata": {},
   "source": [
    "### Example"
   ]
  },
  {
   "cell_type": "code",
   "execution_count": 46,
   "metadata": {
    "collapsed": false
   },
   "outputs": [
    {
     "data": {
      "text/plain": [
       "Node 2.0 (Node 3.0 (Node 4.0 EmptyTree EmptyTree) (Node 2.5 EmptyTree EmptyTree)) (Node 1.0 (Node 1.5 EmptyTree EmptyTree) (Node 0.5 EmptyTree EmptyTree))"
      ]
     },
     "metadata": {},
     "output_type": "display_data"
    }
   ],
   "source": [
    "mirrorTree t"
   ]
  },
  {
   "cell_type": "markdown",
   "metadata": {},
   "source": [
    "And of course the reflection of the reflection gives you back the original tree:"
   ]
  },
  {
   "cell_type": "code",
   "execution_count": 44,
   "metadata": {
    "collapsed": false
   },
   "outputs": [
    {
     "data": {
      "text/plain": [
       "True"
      ]
     },
     "metadata": {},
     "output_type": "display_data"
    }
   ],
   "source": [
    "mirrorTree (mirrorTree t) == t "
   ]
  }
 ],
 "metadata": {
  "kernelspec": {
   "display_name": "Haskell",
   "language": "haskell",
   "name": "haskell"
  }
 },
 "nbformat": 4,
 "nbformat_minor": 0
}
