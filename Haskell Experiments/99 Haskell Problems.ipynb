{
 "cells": [
  {
   "cell_type": "markdown",
   "metadata": {},
   "source": [
    "# Ninety-Nine Haskell Problems\n",
    "\n",
    "Coming from [here](https://wiki.haskell.org/H-99:_Ninety-Nine_Haskell_Problems).\n"
   ]
  },
  {
   "cell_type": "markdown",
   "metadata": {},
   "source": [
    "## Lists"
   ]
  },
  {
   "cell_type": "markdown",
   "metadata": {},
   "source": [
    "### 1\n",
    "\n",
    " Find the last element of a list."
   ]
  },
  {
   "cell_type": "code",
   "execution_count": 21,
   "metadata": {
    "collapsed": true
   },
   "outputs": [],
   "source": [
    "lastElement :: [a] -> a\n",
    "lastElement [] = error \"Empty list!\"\n",
    "lastElement [x] = x\n",
    "lastElement (x:xs) = lastElement xs"
   ]
  },
  {
   "cell_type": "markdown",
   "metadata": {},
   "source": [
    "### 2\n",
    "\n",
    "Find the last but one element of a list."
   ]
  },
  {
   "cell_type": "code",
   "execution_count": 22,
   "metadata": {
    "collapsed": true
   },
   "outputs": [],
   "source": [
    "lastButOneElement :: [a] -> a\n",
    "lastButOneElement [] = error \"Empty list!\"\n",
    "lastButOneElement [x] = error \"Singleton!\"\n",
    "lastButOneElement [x, y] = x \n",
    "lastButOneElement (x:xs) = lastButOneElement xs "
   ]
  },
  {
   "cell_type": "markdown",
   "metadata": {},
   "source": [
    "### 3\n",
    "\n",
    "Find the K'th element of a list. The first element in the list is number 1."
   ]
  },
  {
   "cell_type": "code",
   "execution_count": 23,
   "metadata": {
    "collapsed": false
   },
   "outputs": [],
   "source": [
    "kthElement :: [a] -> Int -> a\n",
    "kthElement _ 0 = error \"First index is 1!\"\n",
    "kthElement [] _ = error \"Not enough elements!\"\n",
    "kthElement (x:xs) 1 = x\n",
    "kthElement (x:xs) n = kthElement xs (n-1)"
   ]
  },
  {
   "cell_type": "markdown",
   "metadata": {},
   "source": [
    "### 4\n",
    "\n",
    "Find the number of elements of a list."
   ]
  },
  {
   "cell_type": "code",
   "execution_count": 24,
   "metadata": {
    "collapsed": true
   },
   "outputs": [],
   "source": [
    "numberElements :: [a] -> Int\n",
    "numberElements [] = 0\n",
    "numberElements (x:xs) = 1 + numberElements xs"
   ]
  },
  {
   "cell_type": "markdown",
   "metadata": {},
   "source": [
    "### 5\n",
    "\n",
    "Reverse a list."
   ]
  },
  {
   "cell_type": "code",
   "execution_count": 25,
   "metadata": {
    "collapsed": false
   },
   "outputs": [],
   "source": [
    "reverseList :: [a] -> [a]\n",
    "reverseList [] = []\n",
    "reverseList (x:xs) = reverseList xs ++ [x]"
   ]
  },
  {
   "cell_type": "markdown",
   "metadata": {},
   "source": [
    "### 6\n",
    "\n",
    "Find out whether a list is a palindrome. A palindrome can be read forward or backward; e.g. (x a m a x)."
   ]
  },
  {
   "cell_type": "code",
   "execution_count": 26,
   "metadata": {
    "collapsed": false
   },
   "outputs": [],
   "source": [
    "isPalindrome x = x == reverseList x"
   ]
  },
  {
   "cell_type": "markdown",
   "metadata": {},
   "source": [
    "### 7\n",
    "\n",
    "Flatten a nested list structure.\n",
    "\n",
    "A custom data type is needed for nested lists:"
   ]
  },
  {
   "cell_type": "code",
   "execution_count": 27,
   "metadata": {
    "collapsed": false
   },
   "outputs": [],
   "source": [
    "data NestedList a = Elem a | List [NestedList a]"
   ]
  },
  {
   "cell_type": "code",
   "execution_count": 28,
   "metadata": {
    "collapsed": false
   },
   "outputs": [],
   "source": [
    "flattenList :: NestedList a -> [a]\n",
    "flattenList (Elem x) = [x]\n",
    "flattenList (List (x:xs)) = (flattenList x) ++ (flattenList (List xs))"
   ]
  },
  {
   "cell_type": "markdown",
   "metadata": {},
   "source": [
    "### 8\n",
    "\n",
    "Eliminate consecutive duplicates of list elements."
   ]
  },
  {
   "cell_type": "code",
   "execution_count": 29,
   "metadata": {
    "collapsed": false
   },
   "outputs": [],
   "source": [
    "elimConsec :: Eq a => [a] -> [a]\n",
    "elimConsec [] = []\n",
    "elimConsec [x] = [x]\n",
    "elimConsec (x:y:xs)\n",
    "    | x == y = elimConsec (x:xs)\n",
    "    | otherwise = x: elimConsec (y:xs)"
   ]
  },
  {
   "cell_type": "markdown",
   "metadata": {},
   "source": [
    "### 9\n",
    "\n",
    "Pack consecutive duplicates of list elements into sublists. If a list contains repeated elements they should be placed in separate sublists."
   ]
  },
  {
   "cell_type": "code",
   "execution_count": 30,
   "metadata": {
    "collapsed": false
   },
   "outputs": [],
   "source": [
    "packConsec :: Eq a => [a] -> [[a]]\n",
    "packConsec [] = []\n",
    "packConsec [x] = [[x]]\n",
    "packConsec (x:xs)\n",
    "    | x == (head (head pcxs)) = (x:(head pcxs)):(tail pcxs)\n",
    "    | otherwise = [x]:pcxs\n",
    "    where pcxs = packConsec xs"
   ]
  },
  {
   "cell_type": "markdown",
   "metadata": {},
   "source": [
    "### 10\n",
    "\n",
    "Run-length encoding of a list. Use the result of problem P09 to implement the so-called run-length encoding data compression method. Consecutive duplicates of elements are encoded as lists (N E) where N is the number of duplicates of the element E."
   ]
  },
  {
   "cell_type": "code",
   "execution_count": 31,
   "metadata": {
    "collapsed": false
   },
   "outputs": [],
   "source": [
    "runLengthEncod :: Eq a => [a] -> [(Int, a)]\n",
    "runLengthEncod x =\n",
    "    let packed = packConsec x\n",
    "        lengths = map numberElements packed  \n",
    "        heads = map head packed \n",
    "    in  zip lengths heads  "
   ]
  },
  {
   "cell_type": "markdown",
   "metadata": {},
   "source": [
    "## Lists, continued"
   ]
  },
  {
   "cell_type": "markdown",
   "metadata": {},
   "source": [
    "### 11\n",
    "Modify the result of problem 10 in such a way that if an element has no duplicates it is simply copied into the result list. Only elements with duplicates are transferred as (N E) lists."
   ]
  },
  {
   "cell_type": "code",
   "execution_count": 32,
   "metadata": {
    "collapsed": false
   },
   "outputs": [],
   "source": [
    "data Encoded a = Single a | Multiple (Int, a) deriving (Show, Read, Eq)  "
   ]
  },
  {
   "cell_type": "code",
   "execution_count": 33,
   "metadata": {
    "collapsed": false
   },
   "outputs": [],
   "source": [
    "toEncod :: (Int, a) -> Encoded a\n",
    "toEncod (1, x) = Single x\n",
    "toEncod (n, x) = Multiple (n, x)"
   ]
  },
  {
   "cell_type": "code",
   "execution_count": 34,
   "metadata": {
    "collapsed": false
   },
   "outputs": [],
   "source": [
    "runLengthEncod' :: Eq a => [a] -> [Encoded a] \n",
    "runLengthEncod' x = map toEncod $ runLengthEncod x"
   ]
  },
  {
   "cell_type": "markdown",
   "metadata": {},
   "source": [
    "### 12\n",
    "\n",
    "Decode a run-length encoded list."
   ]
  },
  {
   "cell_type": "code",
   "execution_count": 35,
   "metadata": {
    "collapsed": false
   },
   "outputs": [],
   "source": [
    "toDecod :: Eq a => Encoded a -> [a]\n",
    "toDecod (Single x) = [x]\n",
    "toDecod (Multiple (0, x)) = []\n",
    "toDecod (Multiple (1, x)) = toDecod (Single x)\n",
    "toDecod (Multiple (n, x)) = x:(toDecod (Multiple (n-1, x)))"
   ]
  },
  {
   "cell_type": "code",
   "execution_count": 36,
   "metadata": {
    "collapsed": false
   },
   "outputs": [],
   "source": [
    "runLengthDecod :: Eq a => [Encoded a] -> [a]\n",
    "runLengthDecod x = concatMap toDecod x"
   ]
  },
  {
   "cell_type": "markdown",
   "metadata": {},
   "source": [
    "### 13\n",
    "\n",
    "Run-length encoding of a list (direct solution).\n",
    "\n",
    "Implement the so-called run-length encoding data compression method directly. I.e. don't explicitly create the sublists containing the duplicates, as in problem 9, but only count them. As in problem P11, simplify the result list by replacing the singleton lists (1 X) by X."
   ]
  },
  {
   "cell_type": "code",
   "execution_count": 37,
   "metadata": {
    "collapsed": false
   },
   "outputs": [],
   "source": [
    "runLengthEncod'' :: Eq a => [a] -> [(Int, a)]\n",
    "runLengthEncod'' [] = []\n",
    "runLengthEncod'' [x] = [(1, x)]\n",
    "runLengthEncod'' (x:xs)\n",
    "    | x == (snd hexs) = ((fst hexs) + 1, x):texs \n",
    "    | otherwise = (1, x):encodxs\n",
    "    where encodxs = runLengthEncod'' xs\n",
    "          hexs = head encodxs\n",
    "          texs = tail encodxs"
   ]
  },
  {
   "cell_type": "code",
   "execution_count": 38,
   "metadata": {
    "collapsed": true
   },
   "outputs": [],
   "source": [
    "runLengthEncodDirect :: Eq a => [a] -> [Encoded a]\n",
    "runLengthEncodDirect x = map toEncod (runLengthEncod'' x)"
   ]
  },
  {
   "cell_type": "markdown",
   "metadata": {},
   "source": [
    "### 14\n",
    "\n",
    "Duplicate the elements of a list."
   ]
  },
  {
   "cell_type": "code",
   "execution_count": 39,
   "metadata": {
    "collapsed": false
   },
   "outputs": [],
   "source": [
    "repElem :: Int -> a -> [a]\n",
    "repElem 0 _ = []\n",
    "repElem n x = x:(repElem (n-1) x)\n",
    "\n",
    "repElems :: Int -> [a] -> [a]\n",
    "repElems 0 _ = []\n",
    "repElems _ [] = []\n",
    "repElems n (x:xs) = (repElem n x) ++ repElems n xs "
   ]
  },
  {
   "cell_type": "code",
   "execution_count": 40,
   "metadata": {
    "collapsed": false
   },
   "outputs": [],
   "source": [
    "duplicateElems = repElems 2"
   ]
  },
  {
   "cell_type": "markdown",
   "metadata": {},
   "source": [
    "### 15\n",
    "\n",
    "Replicate the elements of a list a given number of times."
   ]
  },
  {
   "cell_type": "markdown",
   "metadata": {},
   "source": [
    "Done above."
   ]
  },
  {
   "cell_type": "markdown",
   "metadata": {},
   "source": [
    "### 16\n",
    "\n",
    "Drop every N'th element from a list."
   ]
  },
  {
   "cell_type": "code",
   "execution_count": 41,
   "metadata": {
    "collapsed": true
   },
   "outputs": [],
   "source": [
    "enumerate :: [a] -> [(Int, a)]\n",
    "enumerate x =\n",
    "    let numbers = [1..(numberElements x)]\n",
    "    in zip numbers x"
   ]
  },
  {
   "cell_type": "code",
   "execution_count": 42,
   "metadata": {
    "collapsed": false
   },
   "outputs": [],
   "source": [
    "dropNthElement :: Int -> [a] -> [a]\n",
    "dropNthElement n x = [snd enum_x | enum_x <- enumerate x, fst enum_x `mod` n /= 0]"
   ]
  },
  {
   "cell_type": "markdown",
   "metadata": {},
   "source": [
    "### 17\n",
    "\n",
    "Split a list into two parts; the length of the first part is given."
   ]
  },
  {
   "cell_type": "code",
   "execution_count": 32,
   "metadata": {
    "collapsed": false
   },
   "outputs": [],
   "source": [
    "splitNElements :: Int -> [a] -> ([a], [a])\n",
    "splitNElements 0 x = ([], x)\n",
    "splitNElements _ [] = ([], [])\n",
    "splitNElements n (x:xs) = (x:fst prevxs, snd prevxs)\n",
    "    where prevxs = splitNElements (n-1) xs"
   ]
  },
  {
   "cell_type": "markdown",
   "metadata": {},
   "source": [
    "### 18\n",
    "\n",
    "Extract a slice from a list.\n",
    "\n",
    "Given two indices, i and k, the slice is the list containing the elements between the i'th and k'th element of the original list (both limits included). Start counting the elements with 1."
   ]
  },
  {
   "cell_type": "code",
   "execution_count": 44,
   "metadata": {
    "collapsed": false
   },
   "outputs": [],
   "source": [
    "sliceSubList :: Int -> Int -> [a] -> [a]\n",
    "sliceSubList m n x = fst (splitNElements (n-m+1) (snd (splitNElements (m-1) x)))"
   ]
  },
  {
   "cell_type": "markdown",
   "metadata": {},
   "source": [
    "### 19 \n",
    "Rotate a list N places to the left.\n",
    "\n",
    "Hint: Use the predefined functions length and (++)."
   ]
  },
  {
   "cell_type": "code",
   "execution_count": 45,
   "metadata": {
    "collapsed": false
   },
   "outputs": [],
   "source": [
    "rotateNPlaces :: Int -> [a] -> [a]\n",
    "rotateNPlaces n x\n",
    "    | n == 0 = x\n",
    "    | n > 0 = snd splitnpos ++ fst splitnpos\n",
    "    | n < 0 = snd splitnneg ++ fst splitnneg\n",
    "    where splitnpos = splitNElements n x\n",
    "          splitnneg = splitNElements (numberElements x + n) x"
   ]
  },
  {
   "cell_type": "markdown",
   "metadata": {},
   "source": [
    "### 20\n",
    "\n",
    "Remove the K'th element from a list."
   ]
  },
  {
   "cell_type": "code",
   "execution_count": 46,
   "metadata": {
    "collapsed": false
   },
   "outputs": [],
   "source": [
    "removeNthElem :: Int -> [a] -> (a, [a])\n",
    "removeNthElem n x = \n",
    "    let splitted = splitNElements (n-1) x \n",
    "        removed = head (snd splitted)\n",
    "        result = fst splitted ++ tail (snd splitted)\n",
    "    in (removed, result)"
   ]
  },
  {
   "cell_type": "markdown",
   "metadata": {},
   "source": [
    "## Lists again"
   ]
  },
  {
   "cell_type": "markdown",
   "metadata": {},
   "source": [
    "### 21\n",
    "\n",
    "Insert an element at a given position into a list."
   ]
  },
  {
   "cell_type": "code",
   "execution_count": 47,
   "metadata": {
    "collapsed": true
   },
   "outputs": [],
   "source": [
    "insertAtNth :: Int -> a -> [a] -> [a]\n",
    "insertAtNth n x xs = \n",
    "    let splitted = splitNElements (n-1) xs\n",
    "    in fst splitted ++ [x] ++ snd splitted"
   ]
  },
  {
   "cell_type": "markdown",
   "metadata": {},
   "source": [
    "### 22\n",
    "\n",
    "Create a list containing all integers within a given range."
   ]
  },
  {
   "cell_type": "code",
   "execution_count": 48,
   "metadata": {
    "collapsed": true
   },
   "outputs": [],
   "source": [
    "rangeInt :: Int -> Int -> [Int]\n",
    "rangeInt m n = \n",
    "    let total = [1..n]\n",
    "        splitted = splitNElements (m-1) total \n",
    "    in snd splitted"
   ]
  },
  {
   "cell_type": "markdown",
   "metadata": {},
   "source": [
    "### 23\n",
    "\n",
    "Extract a given number of randomly selected elements from a list."
   ]
  },
  {
   "cell_type": "code",
   "execution_count": 94,
   "metadata": {
    "collapsed": false
   },
   "outputs": [],
   "source": [
    "import System.Random \n",
    "gen <- newStdGen"
   ]
  },
  {
   "cell_type": "code",
   "execution_count": 76,
   "metadata": {
    "collapsed": false
   },
   "outputs": [],
   "source": [
    "pickRandom :: (RandomGen g) => g -> [a] -> (a, ([a], g))\n",
    "pickRandom g x =\n",
    "    let k = randomR (1, numberElements x) g\n",
    "        elemandresidue = removeNthElem (fst k) x\n",
    "    in (fst elemandresidue, (snd elemandresidue, snd k))"
   ]
  },
  {
   "cell_type": "code",
   "execution_count": 79,
   "metadata": {
    "collapsed": false
   },
   "outputs": [],
   "source": [
    "pickNRandom :: (RandomGen g) => g -> Int -> [a] -> [a]\n",
    "pickNRandom g 0 _ = []\n",
    "pickNRandom g n [] = []\n",
    "pickNRandom g n x = elemrndm:(pickNRandom g' (n-1) residue)\n",
    "    where baserandom = pickRandom g x\n",
    "          elemrndm = fst baserandom\n",
    "          g' = snd (snd baserandom)\n",
    "          residue = fst (snd baserandom)"
   ]
  },
  {
   "cell_type": "markdown",
   "metadata": {},
   "source": [
    "### 24\n",
    "\n",
    "Lotto: Draw N different random numbers from the set 1..M."
   ]
  },
  {
   "cell_type": "code",
   "execution_count": 92,
   "metadata": {
    "collapsed": false
   },
   "outputs": [],
   "source": [
    "lottoList :: (RandomGen g) => g -> Int -> Int -> [Int]\n",
    "lottoList g m n = pickNRandom g m [1..n]"
   ]
  },
  {
   "cell_type": "code",
   "execution_count": 97,
   "metadata": {
    "collapsed": false
   },
   "outputs": [
    {
     "data": {
      "text/plain": [
       "[1,6,5]"
      ]
     },
     "metadata": {},
     "output_type": "display_data"
    }
   ],
   "source": [
    "gen <- newStdGen\n",
    "lottoList gen 3 10"
   ]
  },
  {
   "cell_type": "markdown",
   "metadata": {},
   "source": [
    "### 25 \n",
    "\n",
    "Generate a random permutation of the elements of a list."
   ]
  },
  {
   "cell_type": "code",
   "execution_count": 98,
   "metadata": {
    "collapsed": true
   },
   "outputs": [],
   "source": [
    "randomPermutation :: (RandomGen g) => g -> [a] -> [a]\n",
    "randomPermutation g x = pickNRandom g (numberElements x) x"
   ]
  },
  {
   "cell_type": "code",
   "execution_count": 102,
   "metadata": {
    "collapsed": false
   },
   "outputs": [
    {
     "data": {
      "text/plain": [
       "\"revJai\""
      ]
     },
     "metadata": {},
     "output_type": "display_data"
    }
   ],
   "source": [
    "gen <- newStdGen\n",
    "randomPermutation gen \"Javier\""
   ]
  },
  {
   "cell_type": "markdown",
   "metadata": {},
   "source": [
    "### 26\n",
    "\n",
    "Generate the combinations of K distinct objects chosen from the N elements of a list\n",
    "\n",
    "In how many ways can a committee of 3 be chosen from a group of 12 people? We all know that there are C(12,3) = 220 possibilities (C(N,K) denotes the well-known binomial coefficients). For pure mathematicians, this result may be great. But we want to really generate all the possibilities in a list."
   ]
  },
  {
   "cell_type": "markdown",
   "metadata": {},
   "source": [
    "Something I tried and wasn't as helpful as I first thought:"
   ]
  },
  {
   "cell_type": "code",
   "execution_count": 36,
   "metadata": {
    "collapsed": false
   },
   "outputs": [],
   "source": [
    "matrioska :: [a] -> [([a], [a])]\n",
    "matrioska x = [splitNElements i x | i <- [1..length x - 1]]"
   ]
  },
  {
   "cell_type": "markdown",
   "metadata": {},
   "source": [
    "Simple recursion:"
   ]
  },
  {
   "cell_type": "code",
   "execution_count": 55,
   "metadata": {
    "collapsed": false
   },
   "outputs": [],
   "source": [
    "combinations :: Int -> [a] -> [[a]]\n",
    "combinations 0 _ = [[]]\n",
    "combinations _ [] = []\n",
    "combinations n (x:xs) = [x:subcomb | subcomb <- combinations (n-1) xs] ++ (combinations n xs)"
   ]
  }
 ],
 "metadata": {
  "kernelspec": {
   "display_name": "Haskell",
   "language": "haskell",
   "name": "haskell"
  }
 },
 "nbformat": 4,
 "nbformat_minor": 0
}
