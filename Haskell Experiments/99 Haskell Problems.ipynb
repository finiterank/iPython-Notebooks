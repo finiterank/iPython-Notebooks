{
 "cells": [
  {
   "cell_type": "markdown",
   "metadata": {},
   "source": [
    "# Ninety-Nine Haskell Problems\n",
    "\n",
    "Coming from [here](https://wiki.haskell.org/H-99:_Ninety-Nine_Haskell_Problems)."
   ]
  },
  {
   "cell_type": "markdown",
   "metadata": {},
   "source": [
    "### 1\n",
    "\n",
    " Find the last element of a list."
   ]
  },
  {
   "cell_type": "code",
   "execution_count": 8,
   "metadata": {
    "collapsed": true
   },
   "outputs": [],
   "source": [
    "lastElement :: [a] -> a\n",
    "lastElement [] = error \"Empty list!\"\n",
    "lastElement [x] = x\n",
    "lastElement (x:xs) = lastElement xs"
   ]
  },
  {
   "cell_type": "markdown",
   "metadata": {},
   "source": [
    "### 2\n",
    "\n",
    "Find the last but one element of a list."
   ]
  },
  {
   "cell_type": "code",
   "execution_count": 9,
   "metadata": {
    "collapsed": true
   },
   "outputs": [],
   "source": [
    "lastButOneElement :: [a] -> a\n",
    "lastButOneElement [] = error \"Empty list!\"\n",
    "lastButOneElement [x] = error \"Singleton!\"\n",
    "lastButOneElement [x, y] = x \n",
    "lastButOneElement (x:xs) = lastButOneElement xs "
   ]
  },
  {
   "cell_type": "markdown",
   "metadata": {},
   "source": [
    "### 3\n",
    "\n",
    "Find the K'th element of a list. The first element in the list is number 1."
   ]
  },
  {
   "cell_type": "code",
   "execution_count": 10,
   "metadata": {
    "collapsed": false
   },
   "outputs": [],
   "source": [
    "kthElement :: [a] -> Int -> a\n",
    "kthElement _ 0 = error \"First index is 1!\"\n",
    "kthElement [] _ = error \"Not enough elements!\"\n",
    "kthElement (x:xs) 1 = x\n",
    "kthElement (x:xs) n = kthElement xs (n-1)"
   ]
  },
  {
   "cell_type": "markdown",
   "metadata": {},
   "source": [
    "### 4\n",
    "\n",
    "Find the number of elements of a list."
   ]
  },
  {
   "cell_type": "code",
   "execution_count": 11,
   "metadata": {
    "collapsed": true
   },
   "outputs": [],
   "source": [
    "numberElements :: [a] -> Int\n",
    "numberElements [] = 0\n",
    "numberElements (x:xs) = 1 + numberElements xs"
   ]
  },
  {
   "cell_type": "markdown",
   "metadata": {},
   "source": [
    "### 5\n",
    "\n",
    "Reverse a list."
   ]
  },
  {
   "cell_type": "code",
   "execution_count": 26,
   "metadata": {
    "collapsed": false
   },
   "outputs": [],
   "source": [
    "reverseList :: [a] -> [a]\n",
    "reverseList [] = []\n",
    "reverseList (x:xs) = reverseList xs ++ [x]"
   ]
  },
  {
   "cell_type": "markdown",
   "metadata": {},
   "source": [
    "### 6\n",
    "\n",
    "Find out whether a list is a palindrome. A palindrome can be read forward or backward; e.g. (x a m a x)."
   ]
  },
  {
   "cell_type": "code",
   "execution_count": 29,
   "metadata": {
    "collapsed": false
   },
   "outputs": [],
   "source": [
    "isPalindrome x = x == reverseList x"
   ]
  },
  {
   "cell_type": "markdown",
   "metadata": {},
   "source": [
    "### 7\n",
    "\n",
    "Flatten a nested list structure.\n",
    "\n",
    "A custom data type is needed for nested lists:"
   ]
  },
  {
   "cell_type": "code",
   "execution_count": 36,
   "metadata": {
    "collapsed": false
   },
   "outputs": [],
   "source": [
    "data NestedList a = Elem a | List [NestedList a]"
   ]
  },
  {
   "cell_type": "code",
   "execution_count": 45,
   "metadata": {
    "collapsed": false
   },
   "outputs": [],
   "source": [
    "flattenList :: NestedList a -> [a]\n",
    "flattenList (Elem x) = [x]\n",
    "flattenList (List (x:xs)) = (flattenList x) ++ (flattenList (List xs))"
   ]
  },
  {
   "cell_type": "markdown",
   "metadata": {},
   "source": [
    "### 8\n",
    "\n",
    "Eliminate consecutive duplicates of list elements."
   ]
  },
  {
   "cell_type": "code",
   "execution_count": 52,
   "metadata": {
    "collapsed": false
   },
   "outputs": [],
   "source": [
    "elimConsec :: Eq a => [a] -> [a]\n",
    "elimConsec [] = []\n",
    "elimConsec [x] = [x]\n",
    "elimConsec (x:y:xs)\n",
    "    | x == y = elimConsec (x:xs)\n",
    "    | otherwise = x: elimConsec (y:xs)"
   ]
  },
  {
   "cell_type": "markdown",
   "metadata": {},
   "source": [
    "### 9\n",
    "\n",
    "Pack consecutive duplicates of list elements into sublists. If a list contains repeated elements they should be placed in separate sublists."
   ]
  },
  {
   "cell_type": "code",
   "execution_count": 4,
   "metadata": {
    "collapsed": false
   },
   "outputs": [],
   "source": [
    "packConsec :: Eq a => [a] -> [[a]]\n",
    "packConsec [] = []\n",
    "packConsec [x] = [[x]]\n",
    "packConsec (x:xs)\n",
    "    | x == (head (head (packConsec xs))) = (x:(head (packConsec xs))):(tail (packConsec xs))\n",
    "    | otherwise = [x]:(packConsec xs)"
   ]
  },
  {
   "cell_type": "markdown",
   "metadata": {},
   "source": [
    "### 10\n",
    "\n",
    "Run-length encoding of a list. Use the result of problem P09 to implement the so-called run-length encoding data compression method. Consecutive duplicates of elements are encoded as lists (N E) where N is the number of duplicates of the element E."
   ]
  },
  {
   "cell_type": "code",
   "execution_count": 15,
   "metadata": {
    "collapsed": false
   },
   "outputs": [],
   "source": [
    "runLengthEncod :: Eq a => [a] -> [(Int, a)]\n",
    "runLengthEncod x =\n",
    "    let packed = packConsec x\n",
    "        lengths = map numberElements packed  \n",
    "        heads = map head packed \n",
    "    in  zip lengths heads  "
   ]
  }
 ],
 "metadata": {
  "kernelspec": {
   "display_name": "Haskell",
   "language": "haskell",
   "name": "haskell"
  }
 },
 "nbformat": 4,
 "nbformat_minor": 0
}
